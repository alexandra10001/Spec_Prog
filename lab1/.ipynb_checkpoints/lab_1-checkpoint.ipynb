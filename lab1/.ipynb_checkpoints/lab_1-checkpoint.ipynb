{
 "cells": [
  {
   "cell_type": "code",
   "execution_count": null,
   "metadata": {
    "collapsed": false
   },
   "outputs": [],
   "source": [
    "import string\n",
    "import os, sys\n",
    "import pandas as pd\n",
    "import numpy as np\n",
    "import urllib2\n",
    "import time"
   ]
  },
  {
   "cell_type": "code",
   "execution_count": null,
   "metadata": {
    "collapsed": false,
    "scrolled": true
   },
   "outputs": [],
   "source": [
    "#Для кожної із адміністративних одиниць України завантажити тестові структуровані файли, що містять значення VHI-індексу;\n",
    "#Зчитати завантажені текстові файли у фрейм;\n",
    "#Реалізувати процедуру, яка змінить індекси областей;\n",
    "\n",
    "def loadData(count_1, count_2):\n",
    "    url=\"http://www.star.nesdis.noaa.gov/smcd/emb/vci/gvix/G04/ts_L1/ByProvince/Mean/L1_Mean_UKR.R0\" + str(count_1) + \".txt\"\n",
    "    vhi_url = urllib2.urlopen(url)\n",
    "    out = open('./data/vhi_id_' + str(count_2) + \"_\" + str(time.asctime()) + '.csv','wb')\n",
    "    out.write(vhi_url.read())\n",
    "    out.close()\n",
    "    print \"VHI is downloaded...\"\n",
    "\n",
    "loadData(1, 22)\n",
    "loadData(2, 24)\n",
    "loadData(3, 23)\n",
    "loadData(4, 25)\n",
    "loadData(5, 3)\n",
    "loadData(6, 4)\n",
    "loadData(7, 8)\n",
    "loadData(8, 17)\n",
    "loadData(9, 20)\n",
    "loadData(10, 21)\n",
    "loadData(11, 26)\n",
    "loadData(12, 9)\n",
    "loadData(13, 10)\n",
    "loadData(14, 11)\n",
    "loadData(15, 12)\n",
    "loadData(16, 13)\n",
    "loadData(17, 14)\n",
    "loadData(18, 15)\n",
    "loadData(19, 16)\n",
    "loadData(20, 27)\n",
    "loadData(21, 18)\n",
    "loadData(22, 19)\n",
    "loadData(23, 6)\n",
    "loadData(24, 1)\n",
    "loadData(25, 2)\n",
    "loadData(26, 7)\n",
    "loadData(27, 5)"
   ]
  },
  {
   "cell_type": "code",
   "execution_count": null,
   "metadata": {
    "collapsed": false
   },
   "outputs": [],
   "source": [
    "#Зміна імен стовбців фрейму, які мають бути змістовними та легкими для сприйняття;\n",
    "i = 1\n",
    "dirs = os.listdir(\"./data/\")\n",
    "while i < 28:\n",
    "    for file in dirs: \n",
    "        if file.startswith('vhi_id_' + str(i)):\n",
    "            df = pd.read_csv('./data/' + file, index_col=False, header=1)\n",
    "            df = df.rename(columns={'%Area_VHI_LESS_15': 'VHI_ls_15', '%Area_VHI_LESS_35': 'VHI_ls_35'})\n",
    "            print df[(df['year']==2000) & (df['week']==18)]\n",
    "    i = i + 1"
   ]
  },
  {
   "cell_type": "code",
   "execution_count": null,
   "metadata": {
    "collapsed": false
   },
   "outputs": [],
   "source": [
    "#Ряд VHI для області за рік, пошук екстремумів (min та max);\n",
    "\n",
    "dirs = os.listdir(\"./data/\")\n",
    "year = 1981\n",
    "if file.startswith('vhi_id_10'):\n",
    "    df = pd.read_csv('./data/' + file, index_col=False, header=1)\n",
    "print year, \"min: \", df[(df['year']==year)].VHI.min(0)\n",
    "print year, \"max: \", df[(df['year']==year)].VHI.max(0)"
   ]
  },
  {
   "cell_type": "code",
   "execution_count": null,
   "metadata": {
    "collapsed": false
   },
   "outputs": [],
   "source": [
    "#Ряд VHI за всі роки для області, виявити  роки з екстремальними посухами, які торкнулися більше вказаного відсотка області;\n",
    "\n",
    "dirs = os.listdir(\"./data/\")\n",
    "year = 1981\n",
    "while year < 2016:\n",
    "    if file.startswith('vhi_id_10'):\n",
    "        df = pd.read_csv('./data/' + file, index_col=False, header=1)\n",
    "        df = df.rename(columns={'%Area_VHI_LESS_15': 'VHI_ls_15', '%Area_VHI_LESS_35': 'VHI_ls_35'})\n",
    "    if df['VHI_ls_15']>5:\n",
    "        print df[(df['year']==year)].VHI_ls_15\n",
    "    print y, \"max: \", df[(df['year']==y)].VHI_less_15.max(0)\n",
    "    year += 1"
   ]
  },
  {
   "cell_type": "code",
   "execution_count": null,
   "metadata": {
    "collapsed": false
   },
   "outputs": [],
   "source": [
    "#Аналогічно для помірних посух;\n",
    "\n",
    "dirs = os.listdir(\"./data/\")\n",
    "year = 1981\n",
    "while year < 2016:\n",
    "    if file.startswith('vhi_id_10'):\n",
    "        df = pd.read_csv('./data/' + file, index_col=False, header=1)\n",
    "    print y, \"min: \", df[(df['year']==y)].VHI_less_35.min(0)\n",
    "    print y, \"max: \", df[(df['year']==y)].VHI_less_35.max(0)\n",
    "    year += 1"
   ]
  },
  {
   "cell_type": "code",
   "execution_count": null,
   "metadata": {
    "collapsed": false
   },
   "outputs": [],
   "source": []
  }
 ],
 "metadata": {
  "kernelspec": {
   "display_name": "Python 2",
   "language": "python",
   "name": "python2"
  },
  "language_info": {
   "codemirror_mode": {
    "name": "ipython",
    "version": 2
   },
   "file_extension": ".py",
   "mimetype": "text/x-python",
   "name": "python",
   "nbconvert_exporter": "python",
   "pygments_lexer": "ipython2",
   "version": "2.7.9"
  }
 },
 "nbformat": 4,
 "nbformat_minor": 0
}
