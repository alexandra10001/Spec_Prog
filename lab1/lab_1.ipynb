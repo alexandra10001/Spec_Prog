{
 "cells": [
  {
   "cell_type": "code",
   "execution_count": 1,
   "metadata": {
    "collapsed": false
   },
   "outputs": [],
   "source": [
    "import string\n",
    "import os\n",
    "import sys\n",
    "import pandas as pd\n",
    "import numpy as np\n",
    "import urllib2\n",
    "import time"
   ]
  },
  {
   "cell_type": "code",
   "execution_count": 15,
   "metadata": {
    "collapsed": false
   },
   "outputs": [
    {
     "data": {
      "text/plain": [
       "'2'"
      ]
     },
     "execution_count": 15,
     "metadata": {},
     "output_type": "execute_result"
    }
   ],
   "source": [
    "province = {1: 'Vinnytsya', 2: 'Volyn', 3: 'Dnipropetrovsk', 4: 'Donetsk', 5: 'Zhytomyr', 6: 'Transcarpathia', \n",
    "            7: 'Zaporizhzhya', 8: 'Ivano-Frankivsk', 9: 'Kiev', 10: 'Kirovohrad', 11: 'Lugansk', 12: 'Lviv', \n",
    "            13: 'Mykolayiv', 14: 'Odessa', 15: 'Poltava', 16: 'Rivne', 17: 'Sumy', 18: 'Ternopil', 19: 'Kharkiv', \n",
    "            20: 'Kherson', 21: 'Khmelnytskyy', 22: 'Cherkasy', 23: 'Chernivtsi', 24: 'Chernihiv', 25: 'Crimea'}"
   ]
  },
  {
   "cell_type": "code",
   "execution_count": null,
   "metadata": {
    "collapsed": false,
    "scrolled": true
   },
   "outputs": [],
   "source": [
    "def load_data(path, name_begin, number_of_dist, separator):\n",
    "    count = 1\n",
    "    while count < number_of_dist:\n",
    "        string = \"http://www.star.nesdis.noaa.gov/smcd/emb/vci/gvix/G04/ts_L1/ByProvince/Mean/L1_Mean_UKR.R\"\n",
    "        if count < 10:\n",
    "            url = string + \"0\" + str(count) + \".txt\"\n",
    "        else:\n",
    "            url = string + str(count) + \".txt\"\n",
    "        vhi_url = urllib2.urlopen(url)\n",
    "        out = open(path + name_begin + str(count) + separator + str(time.asctime()) + '.csv','wb')\n",
    "        out.write(vhi_url.read())\n",
    "        out.close()\n",
    "        print \"Downloaded...\"\n",
    "        count += 1\n",
    "          \n",
    "def replace_index(old_path, new_path, name_begin, old_index, new_index, separator):\n",
    "    dirs = os.listdir(old_path)\n",
    "    for file_name in dirs: \n",
    "        if file_name.startswith(name_begin + str(old_index) + separator):\n",
    "            file_content = open(old_path + file_name)\n",
    "            out = open(new_path + name_begin + str(new_index) + separator + province.get(new_index) + '.csv','wb')\n",
    "            out.write(file_content.read())\n",
    "            out.close()\n",
    "            print \"Changed\"\n",
    "    \n",
    "def read_to_data_frame(path, name_begin, max_index, separator):\n",
    "    dirs = os.listdir(path)\n",
    "    frames = {}\n",
    "    count = 1\n",
    "    while count < (max_index + 1):\n",
    "        for file in dirs: \n",
    "            if file.startswith(name_begin + str(count) + separator): \n",
    "                df = pd.read_csv(path + file, index_col=False, header=1)\n",
    "                frames.update({province.get(count): df})\n",
    "        count += 1\n",
    "    return frames\n",
    "\n",
    "def create_gen_data_frame(frames):\n",
    "    result = pd.concat(frames, ignore_index=True)\n",
    "    return result\n",
    "\n",
    "def rename_column(df, old_column_name, new_column_name):\n",
    "    df = df.rename(columns={old_column_name: new_column_name})\n",
    "    return df\n",
    "\n",
    "def max_value_VHI(frames, path, name_begin, max_index, column_name, value):\n",
    "    max_values = {}\n",
    "    count = 1\n",
    "    while count < len(frames) + 1:\n",
    "        df = frames.get(province.get(count))\n",
    "        max_values.update({province.get(count): df[(df[column_name]==value)].VHI.max()})\n",
    "        count += 1\n",
    "    return max_values\n",
    "\n",
    "def min_value_VHI(frames, path, name_begin, max_index, column_name, value):\n",
    "    min_values = {}\n",
    "    count = 1\n",
    "    while count < len(frames) + 1:\n",
    "        df = frames.get(province.get(count))\n",
    "        min_values.update({province.get(count): df[(df[column_name]==value)].VHI.min()})\n",
    "        count += 1\n",
    "    return min_values"
   ]
  },
  {
   "cell_type": "code",
   "execution_count": null,
   "metadata": {
    "collapsed": false
   },
   "outputs": [],
   "source": [
    "PATH_1 = './data_old_index/'\n",
    "PATH_2 = './data_new_index/'\n",
    "START_OF_NAME = 'vhi_id_'\n",
    "MAX_INDEX = len(province)\n",
    "NUMBER_OF_REGIONS = 28\n",
    "SEPARATOR = '_'"
   ]
  },
  {
   "cell_type": "markdown",
   "metadata": {},
   "source": [
    "### Downloading '.txt' files with VHI values from NOAA."
   ]
  },
  {
   "cell_type": "code",
   "execution_count": null,
   "metadata": {
    "collapsed": false,
    "scrolled": true
   },
   "outputs": [],
   "source": [
    "load_data(PATH_1, START_OF_NAME, NUMBER_OF_REGIONS, SEPARATOR)"
   ]
  },
  {
   "cell_type": "markdown",
   "metadata": {},
   "source": [
    "### Changing indexes of regions according to the task list."
   ]
  },
  {
   "cell_type": "code",
   "execution_count": null,
   "metadata": {
    "collapsed": false,
    "scrolled": true
   },
   "outputs": [],
   "source": [
    "replace_index(PATH_1, PATH_2, START_OF_NAME, 1, 22, SEPARATOR)\n",
    "replace_index(PATH_1, PATH_2, START_OF_NAME, 2, 24, SEPARATOR)\n",
    "replace_index(PATH_1, PATH_2, START_OF_NAME, 3, 23, SEPARATOR)\n",
    "replace_index(PATH_1, PATH_2, START_OF_NAME, 4, 25, SEPARATOR)\n",
    "replace_index(PATH_1, PATH_2, START_OF_NAME, 5, 3, SEPARATOR)\n",
    "replace_index(PATH_1, PATH_2, START_OF_NAME, 6, 4, SEPARATOR)\n",
    "replace_index(PATH_1, PATH_2, START_OF_NAME, 7, 8, SEPARATOR)\n",
    "replace_index(PATH_1, PATH_2, START_OF_NAME, 8, 19, SEPARATOR)\n",
    "replace_index(PATH_1, PATH_2, START_OF_NAME, 9, 20, SEPARATOR)\n",
    "replace_index(PATH_1, PATH_2, START_OF_NAME, 10, 21, SEPARATOR)\n",
    "replace_index(PATH_1, PATH_2, START_OF_NAME, 12, 9, SEPARATOR)\n",
    "replace_index(PATH_1, PATH_2, START_OF_NAME, 13, 10, SEPARATOR)\n",
    "replace_index(PATH_1, PATH_2, START_OF_NAME, 14, 11, SEPARATOR)\n",
    "replace_index(PATH_1, PATH_2, START_OF_NAME, 15, 12, SEPARATOR)\n",
    "replace_index(PATH_1, PATH_2, START_OF_NAME, 16, 13, SEPARATOR)\n",
    "replace_index(PATH_1, PATH_2, START_OF_NAME, 17, 14, SEPARATOR)\n",
    "replace_index(PATH_1, PATH_2, START_OF_NAME, 18, 15, SEPARATOR)\n",
    "replace_index(PATH_1, PATH_2, START_OF_NAME, 19, 16, SEPARATOR)\n",
    "replace_index(PATH_1, PATH_2, START_OF_NAME, 21, 17, SEPARATOR)\n",
    "replace_index(PATH_1, PATH_2, START_OF_NAME, 22, 18, SEPARATOR)\n",
    "replace_index(PATH_1, PATH_2, START_OF_NAME, 23, 6, SEPARATOR)\n",
    "replace_index(PATH_1, PATH_2, START_OF_NAME, 24, 1, SEPARATOR)\n",
    "replace_index(PATH_1, PATH_2, START_OF_NAME, 25, 2, SEPARATOR)\n",
    "replace_index(PATH_1, PATH_2, START_OF_NAME, 26, 7, SEPARATOR)\n",
    "replace_index(PATH_1, PATH_2, START_OF_NAME, 27, 5, SEPARATOR)"
   ]
  },
  {
   "cell_type": "markdown",
   "metadata": {},
   "source": [
    "### Reading loaded files into the dataframe."
   ]
  },
  {
   "cell_type": "code",
   "execution_count": null,
   "metadata": {
    "collapsed": false
   },
   "outputs": [],
   "source": [
    "frames = read_to_data_frame(PATH_2, START_OF_NAME, MAX_INDEX, SEPARATOR)\n",
    "df = create_gen_data_frame(frames)"
   ]
  },
  {
   "cell_type": "markdown",
   "metadata": {},
   "source": [
    "### Renaming columns with complicated names. "
   ]
  },
  {
   "cell_type": "code",
   "execution_count": null,
   "metadata": {
    "collapsed": false,
    "scrolled": true
   },
   "outputs": [],
   "source": [
    "df = rename_column(df, '%Area_VHI_LESS_15', 'VHI_ls_15')\n",
    "df = rename_column(df, '%Area_VHI_LESS_35', 'VHI_ls_35')"
   ]
  },
  {
   "cell_type": "markdown",
   "metadata": {},
   "source": [
    "### Max and min values of VHI for regions during the year."
   ]
  },
  {
   "cell_type": "code",
   "execution_count": null,
   "metadata": {
    "collapsed": false
   },
   "outputs": [],
   "source": [
    "COLUMN_NAME = 'year'\n",
    "YEAR = 1999"
   ]
  },
  {
   "cell_type": "code",
   "execution_count": null,
   "metadata": {
    "collapsed": false
   },
   "outputs": [],
   "source": [
    "max_value_VHI(frames, PATH_2, START_OF_NAME, MAX_INDEX, COLUMN_NAME, YEAR)"
   ]
  },
  {
   "cell_type": "code",
   "execution_count": null,
   "metadata": {
    "collapsed": false
   },
   "outputs": [],
   "source": [
    "min_value_VHI(frames, PATH_2, START_OF_NAME, MAX_INDEX, COLUMN_NAME, YEAR)"
   ]
  },
  {
   "cell_type": "markdown",
   "metadata": {},
   "source": [
    "### Definition of the years with extreme droughts for which the VHI index is above a specified percentage."
   ]
  },
  {
   "cell_type": "code",
   "execution_count": null,
   "metadata": {
    "collapsed": false
   },
   "outputs": [],
   "source": [
    "YEAR_ARRAY = range(1981, 2017)\n",
    "SPEC_PERCENT = 5\n",
    "COLUMN_NAME = '%Area_VHI_LESS_15'"
   ]
  },
  {
   "cell_type": "code",
   "execution_count": null,
   "metadata": {
    "collapsed": false
   },
   "outputs": [],
   "source": [
    "#Ряд VHI за всі роки для області, виявити  роки з екстремальними посухами, які торкнулися більше вказаного відсотка області;\n",
    "\n",
    "'''dirs = os.listdir(\"./data/\")\n",
    "year = 1981\n",
    "while year < 2016:\n",
    "    if file.startswith('vhi_id_10'):\n",
    "        df = pd.read_csv('./data/' + file, index_col=False, header=1)\n",
    "        df = df.rename(columns={'%Area_VHI_LESS_15': 'VHI_ls_15', '%Area_VHI_LESS_35': 'VHI_ls_35'})\n",
    "    if df['VHI_ls_15']>5:\n",
    "        print df[(df['year']==year)].VHI_ls_15\n",
    "    print y, \"max: \", df[(df['year']==y)].VHI_less_15.max(0)\n",
    "    year += 1'''"
   ]
  }
 ],
 "metadata": {
  "kernelspec": {
   "display_name": "Python 2",
   "language": "python",
   "name": "python2"
  },
  "language_info": {
   "codemirror_mode": {
    "name": "ipython",
    "version": 2
   },
   "file_extension": ".py",
   "mimetype": "text/x-python",
   "name": "python",
   "nbconvert_exporter": "python",
   "pygments_lexer": "ipython2",
   "version": "2.7.9"
  }
 },
 "nbformat": 4,
 "nbformat_minor": 0
}
