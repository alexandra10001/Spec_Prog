{
 "metadata": {
  "name": "",
  "signature": "sha256:43ecf98e6b3c0553b17d9504caad0a5678a9670eaee1da53d7602456e63d3e0d"
 },
 "nbformat": 3,
 "nbformat_minor": 0,
 "worksheets": [
  {
   "cells": [
    {
     "cell_type": "code",
     "collapsed": false,
     "input": [
      "import string\n",
      "import os, sys\n",
      "import pandas as pd\n",
      "import numpy as np\n",
      "import urllib2\n",
      "import time"
     ],
     "language": "python",
     "metadata": {},
     "outputs": [],
     "prompt_number": 1
    },
    {
     "cell_type": "code",
     "collapsed": false,
     "input": [
      "def download(number1, number2, diff):\n",
      "    url=\"http://www.star.nesdis.noaa.gov/smcd/emb/vci/gvix/G04/ts_L1/ByProvince/Mean/L1_Mean_UKR.R\" + diff + str(number1) + \".txt\"\n",
      "    vhi_url = urllib2.urlopen(url)\n",
      "    out = open('./data/vhi_id_' + str(number2) + \"_\" + str(time.asctime()) + '.csv','wb')\n",
      "    out.write(vhi_url.read())\n",
      "    out.close()\n",
      "    return\n",
      "\n",
      "def read(direct):\n",
      "    global df\n",
      "    list_of_files = os.listdir(direct)\n",
      "    for file in list_of_files:\n",
      "        df = pd.read_csv(direct + file, index_col=False, header=1)\n",
      "    return df\n",
      "\n",
      "def change(df, oldname, newname):\n",
      "    df = df.rename(columns={oldname: newname})\n",
      "    return df\n",
      "\n",
      "def compare(df, y1, y2, w1, w2, number):\n",
      "    k = y1\n",
      "    while k < y2:\n",
      "        l = w1\n",
      "        while l < w2:\n",
      "            if df[(df['year']==k) & (df['week']==l)].VHI_ls_15.item() > number:\n",
      "                print  k, ' ', l, ' ', df[(df['year']==k) & (df['week']==l)].VHI.item()\n",
      "            l += 1\n",
      "        k += 1\n",
      "    return"
     ],
     "language": "python",
     "metadata": {},
     "outputs": [],
     "prompt_number": 2
    },
    {
     "cell_type": "code",
     "collapsed": false,
     "input": [
      "#\u0414\u043b\u044f \u043a\u043e\u0436\u043d\u043e\u0457 \u0456\u0437 \u0430\u0434\u043c\u0456\u043d\u0456\u0441\u0442\u0440\u0430\u0442\u0438\u0432\u043d\u0438\u0445 \u043e\u0434\u0438\u043d\u0438\u0446\u044c \u0423\u043a\u0440\u0430\u0457\u043d\u0438 \u0437\u0430\u0432\u0430\u043d\u0442\u0430\u0436\u0438\u0442\u0438 \u0442\u0435\u0441\u0442\u043e\u0432\u0456 \u0441\u0442\u0440\u0443\u043a\u0442\u0443\u0440\u043e\u0432\u0430\u043d\u0456 \u0444\u0430\u0439\u043b\u0438, \u0449\u043e \u043c\u0456\u0441\u0442\u044f\u0442\u044c \u0437\u043d\u0430\u0447\u0435\u043d\u043d\u044f VHI-\u0456\u043d\u0434\u0435\u043a\u0441\u0443;\n",
      "#\u0417\u0447\u0438\u0442\u0430\u0442\u0438 \u0437\u0430\u0432\u0430\u043d\u0442\u0430\u0436\u0435\u043d\u0456 \u0442\u0435\u043a\u0441\u0442\u043e\u0432\u0456 \u0444\u0430\u0439\u043b\u0438 \u0443 \u0444\u0440\u0435\u0439\u043c;\n",
      "#\u0420\u0435\u0430\u043b\u0456\u0437\u0443\u0432\u0430\u0442\u0438 \u043f\u0440\u043e\u0446\u0435\u0434\u0443\u0440\u0443, \u044f\u043a\u0430 \u0437\u043c\u0456\u043d\u0438\u0442\u044c \u0456\u043d\u0434\u0435\u043a\u0441\u0438 \u043e\u0431\u043b\u0430\u0441\u0442\u0435\u0439;\n",
      "i = 1\n",
      "while i < 28:\n",
      "    if i < 10:\n",
      "        if i > 4 and i < 7:\n",
      "            download(i, i-2, \"0\");\n",
      "        if i > 7 and i < 10:\n",
      "            download(i, i+11, \"0\");\n",
      "        if i == 1:\n",
      "            download(i, 22, \"0\");\n",
      "        if i == 2:\n",
      "            download(i, 24, \"0\");\n",
      "        if i == 3:\n",
      "            download(i, 23, \"0\");\n",
      "        if i == 4:\n",
      "            download(i, 25, \"0\");\n",
      "    if i >= 10:\n",
      "        if (i > 11 and i < 20) or (i > 20 and i < 23):\n",
      "            download(i, i-3, \"\");\n",
      "        if i > 23 and i < 26:\n",
      "            download(i, i-23, \"\");\n",
      "        if i == 10:\n",
      "            download(i, 21, \"\");\n",
      "        if i == 11:\n",
      "            download(i, 26, \"\");\n",
      "        if i == 20:\n",
      "            download(i, 27, \"\");\n",
      "        if i == 23:\n",
      "            download(i, 6, \"\");\n",
      "        if i == 26:\n",
      "            download(i, 7, \"\");\n",
      "        if i == 27:\n",
      "            download(i, 5, \"\");\n",
      "    print \"VHI is downloaded...\"\n",
      "    i = i + 1"
     ],
     "language": "python",
     "metadata": {},
     "outputs": [
      {
       "output_type": "stream",
       "stream": "stdout",
       "text": [
        "VHI is downloaded...\n",
        "VHI is downloaded..."
       ]
      },
      {
       "output_type": "stream",
       "stream": "stdout",
       "text": [
        "\n",
        "VHI is downloaded..."
       ]
      },
      {
       "output_type": "stream",
       "stream": "stdout",
       "text": [
        "\n",
        "VHI is downloaded..."
       ]
      },
      {
       "output_type": "stream",
       "stream": "stdout",
       "text": [
        "\n",
        "VHI is downloaded..."
       ]
      },
      {
       "output_type": "stream",
       "stream": "stdout",
       "text": [
        "\n",
        "VHI is downloaded..."
       ]
      },
      {
       "output_type": "stream",
       "stream": "stdout",
       "text": [
        "\n",
        "VHI is downloaded...\n",
        "VHI is downloaded..."
       ]
      },
      {
       "output_type": "stream",
       "stream": "stdout",
       "text": [
        "\n",
        "VHI is downloaded..."
       ]
      },
      {
       "output_type": "stream",
       "stream": "stdout",
       "text": [
        "\n",
        "VHI is downloaded..."
       ]
      },
      {
       "output_type": "stream",
       "stream": "stdout",
       "text": [
        "\n",
        "VHI is downloaded..."
       ]
      },
      {
       "output_type": "stream",
       "stream": "stdout",
       "text": [
        "\n",
        "VHI is downloaded..."
       ]
      },
      {
       "output_type": "stream",
       "stream": "stdout",
       "text": [
        "\n",
        "VHI is downloaded..."
       ]
      },
      {
       "output_type": "stream",
       "stream": "stdout",
       "text": [
        "\n",
        "VHI is downloaded..."
       ]
      },
      {
       "output_type": "stream",
       "stream": "stdout",
       "text": [
        "\n",
        "VHI is downloaded..."
       ]
      },
      {
       "output_type": "stream",
       "stream": "stdout",
       "text": [
        "\n",
        "VHI is downloaded..."
       ]
      },
      {
       "output_type": "stream",
       "stream": "stdout",
       "text": [
        "\n",
        "VHI is downloaded..."
       ]
      },
      {
       "output_type": "stream",
       "stream": "stdout",
       "text": [
        "\n",
        "VHI is downloaded..."
       ]
      },
      {
       "output_type": "stream",
       "stream": "stdout",
       "text": [
        "\n",
        "VHI is downloaded..."
       ]
      },
      {
       "output_type": "stream",
       "stream": "stdout",
       "text": [
        "\n",
        "VHI is downloaded..."
       ]
      },
      {
       "output_type": "stream",
       "stream": "stdout",
       "text": [
        "\n",
        "VHI is downloaded..."
       ]
      },
      {
       "output_type": "stream",
       "stream": "stdout",
       "text": [
        "\n",
        "VHI is downloaded..."
       ]
      },
      {
       "output_type": "stream",
       "stream": "stdout",
       "text": [
        "\n",
        "VHI is downloaded..."
       ]
      },
      {
       "output_type": "stream",
       "stream": "stdout",
       "text": [
        "\n",
        "VHI is downloaded..."
       ]
      },
      {
       "output_type": "stream",
       "stream": "stdout",
       "text": [
        "\n",
        "VHI is downloaded..."
       ]
      },
      {
       "output_type": "stream",
       "stream": "stdout",
       "text": [
        "\n",
        "VHI is downloaded..."
       ]
      },
      {
       "output_type": "stream",
       "stream": "stdout",
       "text": [
        "\n",
        "VHI is downloaded..."
       ]
      },
      {
       "output_type": "stream",
       "stream": "stdout",
       "text": [
        "\n"
       ]
      }
     ],
     "prompt_number": 27
    },
    {
     "cell_type": "code",
     "collapsed": false,
     "input": [
      "#\u0417\u043c\u0456\u043d\u0430 \u0456\u043c\u0435\u043d \u0441\u0442\u043e\u0432\u0431\u0446\u0456\u0432 \u0444\u0440\u0435\u0439\u043c\u0443, \u044f\u043a\u0456 \u043c\u0430\u044e\u0442\u044c \u0431\u0443\u0442\u0438 \u0437\u043c\u0456\u0441\u0442\u043e\u0432\u043d\u0438\u043c\u0438 \u0442\u0430 \u043b\u0435\u0433\u043a\u0438\u043c\u0438 \u0434\u043b\u044f \u0441\u043f\u0440\u0438\u0439\u043d\u044f\u0442\u0442\u044f;\n",
      "i = 1\n",
      "direct = './data/'\n",
      "while i < 2: #28\n",
      "    a = read(direct)\n",
      "    b = change(a, '%Area_VHI_LESS_15', 'VHI_ls_15')\n",
      "    c = change(b, '%Area_VHI_LESS_35', 'VHI_ls_35')\n",
      "    print c\n",
      "    i += 1"
     ],
     "language": "python",
     "metadata": {},
     "outputs": [
      {
       "output_type": "stream",
       "stream": "stdout",
       "text": [
        "      year  week     SMN      SMT    VCI    TCI    VHI  VHI_ls_15  VHI_ls_35\n",
        "0     1981    35  0.1735  289.191  10.25  80.73  45.49       0.50      19.94\n",
        "1     1981    36  0.1836  290.168  19.02  64.42  41.72       3.01      32.96\n",
        "2     1981    37  0.1864  290.133  27.97  48.31  38.14       5.49      42.93\n",
        "3     1981    38  0.1881  289.485  37.48  36.57  37.02       6.10      46.09\n",
        "4     1981    39  0.1853  288.003  45.72  29.93  37.83       5.74      41.43\n",
        "5     1981    40  0.1784  285.818  52.58  25.67  39.12       4.02      37.70\n",
        "6     1981    41  0.1664  282.969  56.26  26.08  41.17       2.44      31.31\n",
        "7     1981    42  0.1487  279.453  57.07  31.34  44.20       1.04      22.85\n",
        "8     1981    43  0.1276  275.213  56.28  40.02  48.15       0.32      14.38\n",
        "9     1981    44  0.1042  270.625  52.25  50.65  51.45       0.22      10.29\n",
        "10    1981    45  0.0858  265.982  50.15  60.05  55.10       0.14       6.71\n",
        "11    1981    46  0.0715  261.608  48.29  67.25  57.77       0.14       6.03\n",
        "12    1981    47  0.0604  258.145  44.59  71.49  58.04       0.18       6.89\n",
        "13    1981    48  0.0536  255.647  44.21  72.06  58.13       0.11       7.75\n",
        "14    1981    49  0.0481  253.953  43.96  71.88  57.92       0.29       8.32\n",
        "15    1981    50  0.0449  252.843  45.19  71.55  58.37       0.32       8.32\n",
        "16    1981    51  0.0410  251.791  45.65  71.89  58.77       0.22       7.17\n",
        "17    1981    52  0.0371  251.549  45.76  66.50  56.13       0.11       8.68\n",
        "18    1982     1  0.0331  252.164  44.79  57.31  51.05       0.18      15.71\n",
        "19    1982     2  0.0304  253.387  42.89  49.75  46.32       0.25      23.03\n",
        "20    1982     3  0.0280  254.379  40.81  45.97  43.39       0.36      28.77\n",
        "21    1982     4  0.0264  255.650  39.76  44.58  42.17       0.25      28.69\n",
        "22    1982     5  0.0252  256.953  37.94  45.86  41.90       0.22      26.72\n",
        "23    1982     6  0.0227  258.019  31.22  49.86  40.54       0.07      28.41\n",
        "24    1982     7  0.0224  259.438  25.91  52.06  38.98       0.04      32.03\n",
        "25    1982     8  0.0257  261.795  25.57  49.70  37.63       0.07      37.52\n",
        "26    1982     9  0.0266  263.835  22.61  50.80  36.70       0.00      42.58\n",
        "27    1982    10  0.0296  266.206  21.38  51.50  36.44       0.07      43.08\n",
        "28    1982    11  0.0379  269.265  23.27  49.27  36.27       0.04      44.01\n",
        "29    1982    12  0.0512  272.424  27.94  47.04  37.49       0.00      37.98\n",
        "...    ...   ...     ...      ...    ...    ...    ...        ...        ...\n",
        "1716  2014    35  0.3376  299.237  61.26  25.36  43.31       3.70      30.50\n",
        "1717  2014    36  0.3226  297.857  63.80  22.87  43.33       3.01      29.78\n",
        "1718  2014    37  0.3056  296.304  65.74  18.36  42.05       2.73      32.87\n",
        "1719  2014    38  0.2868  294.417  65.78  16.51  41.14       2.30      34.98\n",
        "1720  2014    39  0.2677  292.123  65.13  17.97  41.55       1.69      35.09\n",
        "1721  2014    40  0.2504  289.724  66.38  19.03  42.71       0.97      31.93\n",
        "1722  2014    41  0.2309  287.176  66.99  20.37  43.68       0.47      28.17\n",
        "1723  2014    42  0.2108  284.572  67.76  21.81  44.78       0.14      21.96\n",
        "1724  2014    43  0.1902  282.418  68.91  22.10  45.50       0.00      16.83\n",
        "1725  2014    44  0.1670  279.926  67.51  21.37  44.44       0.00      17.87\n",
        "1726  2014    45  0.1429  277.076  63.78  21.43  42.61       0.00      21.46\n",
        "1727  2014    46  0.1210  274.177  60.68  22.00  41.34       0.00      24.61\n",
        "1728  2014    47  0.1012  270.729  57.32  23.67  40.49       0.25      29.14\n",
        "1729  2014    48  0.0818  266.784  52.53  32.05  42.29       0.22      25.94\n",
        "1730  2014    49  0.0683  263.075  49.10  42.51  45.80       0.22      17.80\n",
        "1731  2014    50  0.0594  259.748  47.28  46.80  47.04       0.22      16.90\n",
        "1732  2014    51  0.0522  257.372  46.96  50.52  48.74       0.36      14.10\n",
        "1733  2014    52  0.0463  255.899  47.90  51.59  49.74       0.32      11.98\n",
        "1734  2015     1  0.0420  254.978  50.88  54.98  52.93       0.04       7.10\n",
        "1735  2015     2  0.0360  254.460  43.43  57.77  50.60       0.14       7.75\n",
        "1736  2015     3  0.0321  254.445  38.15  58.82  48.49       0.11       9.76\n",
        "1737  2015     4  0.0324  255.473  37.57  58.29  47.93       0.07      11.37\n",
        "1738  2015     5  0.0336  257.081  35.40  56.60  46.00       0.07      13.20\n",
        "1739  2015     6  0.0363  259.514  33.16  50.40  41.78       0.04      21.49\n",
        "1740  2015     7  0.0414  262.829  31.92  42.79  37.35       0.00      38.54\n",
        "1741  2015     8  0.0496  266.912  33.67  34.40  34.03       0.00      58.23\n",
        "1742  2015     9  0.0617  271.266  38.18  27.08  32.63       0.18      66.38\n",
        "1743  2015    10  0.0776  275.605  43.93  21.70  32.81       0.11      65.02\n",
        "1744  2015    11  0.0908  278.546  46.09  20.63  33.36       0.11      61.54\n",
        "1745  2015    12  0.0979  280.150  44.59  25.38  34.99       0.04      54.86\n",
        "\n",
        "[1746 rows x 9 columns]\n"
       ]
      }
     ],
     "prompt_number": 3
    },
    {
     "cell_type": "code",
     "collapsed": false,
     "input": [
      "#\u0420\u044f\u0434 VHI \u0434\u043b\u044f \u043e\u0431\u043b\u0430\u0441\u0442\u0456 \u0437\u0430 \u0440\u0456\u043a, \u043f\u043e\u0448\u0443\u043a \u0435\u043a\u0441\u0442\u0440\u0435\u043c\u0443\u043c\u0456\u0432 (min \u0442\u0430 max);\n",
      "i = 1\n",
      "y = 1981\n",
      "while i < 2: #28\n",
      "    a = read(direct)\n",
      "    print i, y, \"min: \", df[(df['year']==y)].VHI.min(0)\n",
      "    print i, y, \"max: \", df[(df['year']==y)].VHI.max(0)\n",
      "    i = i + 1"
     ],
     "language": "python",
     "metadata": {},
     "outputs": [
      {
       "output_type": "stream",
       "stream": "stdout",
       "text": [
        "1 1981 min:  37.02\n",
        "1 1981 max:  "
       ]
      },
      {
       "output_type": "stream",
       "stream": "stdout",
       "text": [
        "58.77\n"
       ]
      }
     ],
     "prompt_number": 5
    },
    {
     "cell_type": "code",
     "collapsed": false,
     "input": [
      "#\u0420\u044f\u0434 VHI \u0437\u0430 \u0432\u0441\u0456 \u0440\u043e\u043a\u0438 \u0434\u043b\u044f \u043e\u0431\u043b\u0430\u0441\u0442\u0456, \u0432\u0438\u044f\u0432\u0438\u0442\u0438  \u0440\u043e\u043a\u0438 \u0437 \u0435\u043a\u0441\u0442\u0440\u0435\u043c\u0430\u043b\u044c\u043d\u0438\u043c\u0438 \u043f\u043e\u0441\u0443\u0445\u0430\u043c\u0438, \u044f\u043a\u0456 \u0442\u043e\u0440\u043a\u043d\u0443\u043b\u0438\u0441\u044f \u0431\u0456\u043b\u044c\u0448\u0435 \u0432\u043a\u0430\u0437\u0430\u043d\u043e\u0433\u043e \u0432\u0456\u0434\u0441\u043e\u0442\u043a\u0430 \u043e\u0431\u043b\u0430\u0441\u0442\u0456;\n",
      "compare(c, 2000, 2005, 20, 53, 5) "
     ],
     "language": "python",
     "metadata": {},
     "outputs": [
      {
       "output_type": "stream",
       "stream": "stdout",
       "text": [
        "2000   43   27.58\n",
        "2000   44   27.76\n",
        "2000   45   26.46\n",
        "2000   46   24.69\n",
        "2000   47   23.82\n",
        "2000   48   23.11\n",
        "2000   49   23.61\n",
        "2000   50   26.62\n",
        "2000"
       ]
      },
      {
       "output_type": "stream",
       "stream": "stdout",
       "text": [
        "   51   30.43\n",
        "2000   52   32.34\n",
        "2002"
       ]
      },
      {
       "output_type": "stream",
       "stream": "stdout",
       "text": [
        "   28   31.62\n",
        "2002   29   30.18\n",
        "2002   30   33.42\n",
        "2002   31   34.57\n",
        "2002   32   33.88\n",
        "2002   33   34.12\n",
        "2002   34   35.01\n",
        "2002   35   36.99\n",
        "2003"
       ]
      },
      {
       "output_type": "stream",
       "stream": "stdout",
       "text": [
        "   20   30.13\n",
        "2003   21   31.01\n",
        "2003   22   32.13\n"
       ]
      }
     ],
     "prompt_number": 6
    },
    {
     "cell_type": "code",
     "collapsed": false,
     "input": [
      "compare(c, 2000, 2005, 1, 53, 20)\n",
      "#print c.VHI.name\n",
      "#print c.columns.get_loc('VHI_ls_15')"
     ],
     "language": "python",
     "metadata": {},
     "outputs": [
      {
       "output_type": "stream",
       "stream": "stdout",
       "text": [
        "2000   47   23.82\n",
        "2000   48   23.11\n",
        "2000   49   23.61\n",
        "2000   50   26.62\n"
       ]
      }
     ],
     "prompt_number": 7
    },
    {
     "cell_type": "code",
     "collapsed": false,
     "input": [
      "#\u0420\u044f\u0434 VHI \u0437\u0430 \u0432\u0441\u0456 \u0440\u043e\u043a\u0438 \u0434\u043b\u044f \u043e\u0431\u043b\u0430\u0441\u0442\u0456, \u0432\u0438\u044f\u0432\u0438\u0442\u0438  \u0440\u043e\u043a\u0438 \u0437 \u043f\u043e\u043c\u0456\u0440\u043d\u0438\u043c\u0438 \u043f\u043e\u0441\u0443\u0445\u0430\u043c\u0438, \u044f\u043a\u0456 \u0442\u043e\u0440\u043a\u043d\u0443\u043b\u0438\u0441\u044f \u0431\u0456\u043b\u044c\u0448\u0435 \u0432\u043a\u0430\u0437\u0430\u043d\u043e\u0433\u043e \u0432\u0456\u0434\u0441\u043e\u0442\u043a\u0430 \u043e\u0431\u043b\u0430\u0441\u0442\u0456;\n",
      "y = 2000 #1981\n",
      "while y < 2005: #2016\n",
      "    w = 1\n",
      "    while w < 53: #53\n",
      "        if c[(c['year']==y) & (c['week']==w)].VHI_ls_35.item() > 40:\n",
      "            print y, ' ', w, ' ', c[(c['year']==y) & (c['week']==w)].VHI.item()\n",
      "        w = w + 1\n",
      "    y = y + 1"
     ],
     "language": "python",
     "metadata": {},
     "outputs": [
      {
       "output_type": "stream",
       "stream": "stdout",
       "text": [
        "2000   40   36.04\n",
        "2000   41   33.24\n",
        "2000   42   29.94\n",
        "2000   43   27.58\n",
        "2000   44   27.76\n",
        "2000   45   26.46\n",
        "2000   46   24.69\n",
        "2000   47   23.82\n",
        "2000"
       ]
      },
      {
       "output_type": "stream",
       "stream": "stdout",
       "text": [
        "   48   23.11\n",
        "2000   49   23.61\n",
        "2000   50   26.62\n",
        "2000   51   30.43\n",
        "2000   52   32.34\n",
        "2001   1   34.48\n",
        "2001   2   37.51\n",
        "2002"
       ]
      },
      {
       "output_type": "stream",
       "stream": "stdout",
       "text": [
        "   2   37.8\n",
        "2002   3   36.19\n",
        "2002   4   37.74\n",
        "2002"
       ]
      },
      {
       "output_type": "stream",
       "stream": "stdout",
       "text": [
        "   26   37.84\n",
        "2002   27   34.4\n",
        "2002   28   31.62\n",
        "2002   29   30.18\n",
        "2002   30   33.42\n",
        "2002   31   34.57\n",
        "2002   32   33.88\n",
        "2002"
       ]
      },
      {
       "output_type": "stream",
       "stream": "stdout",
       "text": [
        "   33   34.12\n",
        "2002   34   35.01\n",
        "2002   35   36.99\n",
        "2003"
       ]
      },
      {
       "output_type": "stream",
       "stream": "stdout",
       "text": [
        "   3   36.98\n",
        "2003   4   36.03\n",
        "2003   5   35.41\n",
        "2003   6   35.24\n",
        "2003   7   35.62\n",
        "2003   8   35.92\n",
        "2003   9   36.66\n",
        "2003"
       ]
      },
      {
       "output_type": "stream",
       "stream": "stdout",
       "text": [
        "   17   36.54\n",
        "2003   18   34.96\n",
        "2003   19   33.3\n",
        "2003   20   30.13\n",
        "2003   21   31.01\n",
        "2003   22   32.13\n",
        "2003   23   35.47\n",
        "2003"
       ]
      },
      {
       "output_type": "stream",
       "stream": "stdout",
       "text": [
        "   46   38.31\n",
        "2003   47   36.05\n",
        "2003   48   35.58\n",
        "2003   49   38.61\n"
       ]
      }
     ],
     "prompt_number": 8
    },
    {
     "cell_type": "code",
     "collapsed": false,
     "input": [
      "#\u0414\u043e\u043f\n",
      "y = 2000 #1981\n",
      "while y < 2005: #2016\n",
      "    w = 1\n",
      "    while w < 53: #53\n",
      "        if c[(c['year']==y) & (c['week']==w)].VHI.item() > 40:\n",
      "            print y, ' ', w, ' ', c[(c['year']==y) & (c['week']==w)].VHI.item()\n",
      "        w = w + 1\n",
      "    y = y + 1"
     ],
     "language": "python",
     "metadata": {},
     "outputs": [
      {
       "output_type": "stream",
       "stream": "stdout",
       "text": [
        "2000   1   49.89\n",
        "2000   2   48.85\n",
        "2000   3   48.21\n",
        "2000   4   49.86\n",
        "2000   5   50.99\n",
        "2000   6   50.08\n",
        "2000"
       ]
      },
      {
       "output_type": "stream",
       "stream": "stdout",
       "text": [
        "   7   46.79\n",
        "2000   8   45.02\n",
        "2000   9   45.69\n",
        "2000   10   47.47\n",
        "2000   11   47.18\n",
        "2000   12   47.33\n",
        "2000   13   "
       ]
      },
      {
       "output_type": "stream",
       "stream": "stdout",
       "text": [
        "46.77\n",
        "2000   14   44.77\n",
        "2000   15   42.62\n",
        "2000   16   44.7\n",
        "2000   17   48.72\n",
        "2000   18   52.81\n",
        "2000   19   54.96\n",
        "2000   20   50.22\n",
        "2000"
       ]
      },
      {
       "output_type": "stream",
       "stream": "stdout",
       "text": [
        "   21   51.14\n",
        "2000   22   49.79\n",
        "2000   23   50.03\n",
        "2000   24   53.32\n",
        "2000   25   56.11\n",
        "2000   26   57.38\n",
        "2000   27   56.62\n",
        "2000   28   "
       ]
      },
      {
       "output_type": "stream",
       "stream": "stdout",
       "text": [
        "55.71\n",
        "2000   29   55.28\n",
        "2000   30   55.48\n",
        "2000   31   54.77\n",
        "2000   32   52.27\n",
        "2000   33   47.74\n",
        "2000   34   45.3\n",
        "2000   35   "
       ]
      },
      {
       "output_type": "stream",
       "stream": "stdout",
       "text": [
        "45.83\n",
        "2000   36   45.05\n",
        "2000   37   43.65\n",
        "2000   38   42.77\n",
        "2000   39   40.69\n",
        "2001"
       ]
      },
      {
       "output_type": "stream",
       "stream": "stdout",
       "text": [
        "   3   40.06\n",
        "2001   4   42.22\n",
        "2001   5   43.45\n",
        "2001   6   45.57\n",
        "2001   7   44.98\n",
        "2001   8   43.67\n",
        "2001   9   43.69\n",
        "2001   10   "
       ]
      },
      {
       "output_type": "stream",
       "stream": "stdout",
       "text": [
        "44.49\n",
        "2001   11   45.67\n",
        "2001   12   45.28\n",
        "2001   13   45.11\n",
        "2001   14   46.11\n",
        "2001   15   45.05\n",
        "2001   16   45.48\n",
        "2001   17   48.45\n",
        "2001"
       ]
      },
      {
       "output_type": "stream",
       "stream": "stdout",
       "text": [
        "   18   53.12\n",
        "2001   19   57.65\n",
        "2001   20   55.58\n",
        "2001   21   59.03\n",
        "2001   22   61.58\n",
        "2001   23   61.95\n",
        "2001   24   61.32\n",
        "2001   25   "
       ]
      },
      {
       "output_type": "stream",
       "stream": "stdout",
       "text": [
        "59.63\n",
        "2001   26   56.63\n",
        "2001   27   52.7\n",
        "2001   28   49.82\n",
        "2001   29   47.04\n",
        "2001   30   46.51\n",
        "2001   31   43.04\n",
        "2001   32   "
       ]
      },
      {
       "output_type": "stream",
       "stream": "stdout",
       "text": [
        "41.86\n",
        "2001   33   41.71\n",
        "2001   34   40.77\n",
        "2001   35   41.7\n",
        "2001   36   42.7\n",
        "2001   37   43.82\n",
        "2001   38   45.52\n",
        "2001   39   "
       ]
      },
      {
       "output_type": "stream",
       "stream": "stdout",
       "text": [
        "45.37\n",
        "2001   40   47.19\n",
        "2001   41   49.07\n",
        "2001   42   48.38\n",
        "2001   43   48.37\n",
        "2001   44   49.15\n",
        "2001   45   50.21\n",
        "2001   46   "
       ]
      },
      {
       "output_type": "stream",
       "stream": "stdout",
       "text": [
        "50.36\n",
        "2001   47   49.87\n",
        "2001   48   49.29\n",
        "2001   49   48.38\n",
        "2001   50   47.68\n",
        "2001   51   46.61\n",
        "2001   52   44.1\n",
        "2002   1   41.05\n",
        "2002"
       ]
      },
      {
       "output_type": "stream",
       "stream": "stdout",
       "text": [
        "   5   40.87\n",
        "2002   6   45.36\n",
        "2002   7   48.23\n",
        "2002   8   49.14\n",
        "2002   9   48.92\n",
        "2002   10   48.34\n",
        "2002   11   47.98\n",
        "2002   12   "
       ]
      },
      {
       "output_type": "stream",
       "stream": "stdout",
       "text": [
        "48.07\n",
        "2002   13   47.99\n",
        "2002   14   48.13\n",
        "2002   15   48.28\n",
        "2002   16   47.94\n",
        "2002   17   47.5\n",
        "2002   18   48.4\n",
        "2002   19   49.5\n",
        "2002"
       ]
      },
      {
       "output_type": "stream",
       "stream": "stdout",
       "text": [
        "   20   45.29\n",
        "2002   21   47.2\n",
        "2002   22   47.31\n",
        "2002   23   46.76\n",
        "2002   24   44.6\n",
        "2002   25   40.83\n",
        "2002"
       ]
      },
      {
       "output_type": "stream",
       "stream": "stdout",
       "text": [
        "   37   44.69\n",
        "2002   38   49.57\n",
        "2002   39   52.29\n",
        "2002   40   51.5\n",
        "2002   41   50.88\n",
        "2002   42   51.14\n",
        "2002   43   50.97\n",
        "2002"
       ]
      },
      {
       "output_type": "stream",
       "stream": "stdout",
       "text": [
        "   44   50.23\n",
        "2002   45   50.01\n",
        "2002   46   51.41\n",
        "2002   47   52.12\n",
        "2002   48   51.97\n",
        "2002   49   51.49\n",
        "2002   50   52.58\n",
        "2002   51   "
       ]
      },
      {
       "output_type": "stream",
       "stream": "stdout",
       "text": [
        "53.14\n",
        "2002   52   50.04\n",
        "2003   1   43.78\n",
        "2003   11   "
       ]
      },
      {
       "output_type": "stream",
       "stream": "stdout",
       "text": [
        "41.01\n",
        "2003   12   42.89\n",
        "2003   13   44.02\n",
        "2003   14   42.83\n",
        "2003"
       ]
      },
      {
       "output_type": "stream",
       "stream": "stdout",
       "text": [
        "   24   40.81\n",
        "2003   25   45.88\n",
        "2003   26   52.01\n",
        "2003   27   57.38\n",
        "2003   28   62.75\n",
        "2003   29   68.32\n",
        "2003   30   75.77\n",
        "2003   31   "
       ]
      },
      {
       "output_type": "stream",
       "stream": "stdout",
       "text": [
        "78.36\n",
        "2003   32   79.39\n",
        "2003   33   77.83\n",
        "2003   34   76.0\n",
        "2003   35   72.38\n",
        "2003   36   65.98\n",
        "2003   37   59.17\n",
        "2003"
       ]
      },
      {
       "output_type": "stream",
       "stream": "stdout",
       "text": [
        "   38   53.31\n",
        "2003   39   49.45\n",
        "2003   40   46.27\n",
        "2003   41   44.53\n",
        "2003   42   44.58\n",
        "2003   43   44.53\n",
        "2003   44   43.63\n",
        "2003"
       ]
      },
      {
       "output_type": "stream",
       "stream": "stdout",
       "text": [
        "   45   40.92\n",
        "2003   50   40.83\n",
        "2003   51   45.32\n",
        "2003   52   53.13\n",
        "2004   1   60.24\n",
        "2004   2   "
       ]
      },
      {
       "output_type": "stream",
       "stream": "stdout",
       "text": [
        "66.55\n",
        "2004   3   70.72\n",
        "2004   4   72.98\n",
        "2004   5   74.66\n",
        "2004   6   70.7\n",
        "2004   7   64.74\n",
        "2004   8   59.33\n",
        "2004   9   "
       ]
      },
      {
       "output_type": "stream",
       "stream": "stdout",
       "text": [
        "55.19\n",
        "2004   10   52.24\n",
        "2004   11   46.67\n",
        "2004   12   46.1\n",
        "2004   13   46.68\n",
        "2004   14   45.42\n",
        "2004   15   43.3\n",
        "2004   16   "
       ]
      },
      {
       "output_type": "stream",
       "stream": "stdout",
       "text": [
        "43.17\n",
        "2004   17   43.42\n",
        "2004   18   44.74\n",
        "2004   19   48.46\n",
        "2004   20   48.58\n",
        "2004   21   52.25\n",
        "2004   22   53.08\n",
        "2004   23   54.41\n",
        "2004"
       ]
      },
      {
       "output_type": "stream",
       "stream": "stdout",
       "text": [
        "   24   57.38\n",
        "2004   25   60.62\n",
        "2004   26   63.19\n",
        "2004   27   63.29\n",
        "2004   28   63.42\n",
        "2004   29   63.75\n",
        "2004   30   67.12\n",
        "2004   31   "
       ]
      },
      {
       "output_type": "stream",
       "stream": "stdout",
       "text": [
        "67.81\n",
        "2004   32   68.38\n",
        "2004   33   68.48\n",
        "2004   34   67.95\n",
        "2004   35   63.59\n",
        "2004   36   58.99\n",
        "2004   37   54.69\n",
        "2004   38   53.7\n",
        "2004"
       ]
      },
      {
       "output_type": "stream",
       "stream": "stdout",
       "text": [
        "   39   52.74\n",
        "2004   40   49.8\n",
        "2004   41   45.78\n",
        "2004   42   44.25\n",
        "2004   43   44.47\n",
        "2004   44   44.84\n",
        "2004   45   46.65\n",
        "2004   46   "
       ]
      },
      {
       "output_type": "stream",
       "stream": "stdout",
       "text": [
        "48.62\n",
        "2004   47   48.43\n",
        "2004   48   48.58\n",
        "2004   49   47.14\n",
        "2004   50   46.78\n",
        "2004   51   47.54\n",
        "2004   52   48.76\n"
       ]
      }
     ],
     "prompt_number": 105
    },
    {
     "cell_type": "code",
     "collapsed": false,
     "input": [],
     "language": "python",
     "metadata": {},
     "outputs": []
    }
   ],
   "metadata": {}
  }
 ]
}