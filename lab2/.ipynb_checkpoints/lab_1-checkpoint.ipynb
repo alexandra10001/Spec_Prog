{
 "metadata": {
  "name": "",
  "signature": "sha256:02dbff305c3b8be21bfcc920edf67b7308abe513215664d67b1607d8c3fc6df0"
 },
 "nbformat": 3,
 "nbformat_minor": 0,
 "worksheets": [
  {
   "cells": [
    {
     "cell_type": "code",
     "collapsed": false,
     "input": [
      "import string\n",
      "import os, sys\n",
      "import pandas as pd\n",
      "import numpy as np\n",
      "import  urllib2\n",
      "import time"
     ],
     "language": "python",
     "metadata": {},
     "outputs": [],
     "prompt_number": 10
    },
    {
     "cell_type": "code",
     "collapsed": false,
     "input": [
      "def download(number1, number2, diff):\n",
      "    url=\"http://www.star.nesdis.noaa.gov/smcd/emb/vci/gvix/G04/ts_L1/ByProvince/Mean/L1_Mean_UKR.R\" + diff + str(number1) + \".txt\"\n",
      "    vhi_url = urllib2.urlopen(url)\n",
      "    out = open('./data/vhi_id_' + str(number2) + \"_\" + str(time.asctime()) + '.csv','wb')\n",
      "    out.write(vhi_url.read())\n",
      "    out.close()\n",
      "    return\n",
      "\n",
      "def read(direct, file_begin, number):\n",
      "    if file.startswith(file_begin + str(number)):\n",
      "        #if ((df['year']>0) & (df['week']>0) & (df['SMN']>0) & (df['SMT']>0) & \n",
      "            #(df['VCI']>0) & (df['TCI']>0) & (df['VHI']>0) & (df['%Area_VHI_LESS_15']>0) & (df['%Area_VHI_LESS_35']>0)):\n",
      "        df = pd.read_csv(direct + file, index_col=False, header=1)\n",
      "        print df[(df['year']==2000) & (df['week']==18)]\n",
      "    return \n",
      "\n",
      "def change(df, oldname, newname):\n",
      "    df = df.rename(columns={oldname: newname})\n",
      "    print df[(df['year']==2000) & (df['week']==18)]\n",
      "    return"
     ],
     "language": "python",
     "metadata": {},
     "outputs": [],
     "prompt_number": 65
    },
    {
     "cell_type": "code",
     "collapsed": false,
     "input": [
      "#\u0414\u043b\u044f \u043a\u043e\u0436\u043d\u043e\u0457 \u0456\u0437 \u0430\u0434\u043c\u0456\u043d\u0456\u0441\u0442\u0440\u0430\u0442\u0438\u0432\u043d\u0438\u0445 \u043e\u0434\u0438\u043d\u0438\u0446\u044c \u0423\u043a\u0440\u0430\u0457\u043d\u0438 \u0437\u0430\u0432\u0430\u043d\u0442\u0430\u0436\u0438\u0442\u0438 \u0442\u0435\u0441\u0442\u043e\u0432\u0456 \u0441\u0442\u0440\u0443\u043a\u0442\u0443\u0440\u043e\u0432\u0430\u043d\u0456 \u0444\u0430\u0439\u043b\u0438, \u0449\u043e \u043c\u0456\u0441\u0442\u044f\u0442\u044c \u0437\u043d\u0430\u0447\u0435\u043d\u043d\u044f VHI-\u0456\u043d\u0434\u0435\u043a\u0441\u0443;\n",
      "#\u0417\u0447\u0438\u0442\u0430\u0442\u0438 \u0437\u0430\u0432\u0430\u043d\u0442\u0430\u0436\u0435\u043d\u0456 \u0442\u0435\u043a\u0441\u0442\u043e\u0432\u0456 \u0444\u0430\u0439\u043b\u0438 \u0443 \u0444\u0440\u0435\u0439\u043c;\n",
      "#\u0420\u0435\u0430\u043b\u0456\u0437\u0443\u0432\u0430\u0442\u0438 \u043f\u0440\u043e\u0446\u0435\u0434\u0443\u0440\u0443, \u044f\u043a\u0430 \u0437\u043c\u0456\u043d\u0438\u0442\u044c \u0456\u043d\u0434\u0435\u043a\u0441\u0438 \u043e\u0431\u043b\u0430\u0441\u0442\u0435\u0439;\n",
      "i = 1\n",
      "while i < 28:\n",
      "    if i < 10:\n",
      "        if i > 4 and i < 7:\n",
      "            download(i, i-2, \"0\");\n",
      "        if i > 7 and i < 10:\n",
      "            download(i, i+11, \"0\");\n",
      "        if i == 1:\n",
      "            download(i, 22, \"0\");\n",
      "        if i == 2:\n",
      "            download(i, 24, \"0\");\n",
      "        if i == 3:\n",
      "            download(i, 23, \"0\");\n",
      "        if i == 4:\n",
      "            download(i, 25, \"0\");\n",
      "    if i >= 10:\n",
      "        if (i > 11 and i < 20) or (i > 20 and i < 23):\n",
      "            download(i, i-3, \"\");\n",
      "        if i > 23 and i < 26:\n",
      "            download(i, i-23, \"\");\n",
      "        if i == 10:\n",
      "            download(i, 21, \"\");\n",
      "        if i == 11:\n",
      "            download(i, 26, \"\");\n",
      "        if i == 20:\n",
      "            download(i, 27, \"\");\n",
      "        if i == 23:\n",
      "            download(i, 6, \"\");\n",
      "        if i == 26:\n",
      "            download(i, 7, \"\");\n",
      "        if i == 27:\n",
      "            download(i, 5, \"\");\n",
      "    print \"VHI is downloaded...\"\n",
      "    i = i + 1"
     ],
     "language": "python",
     "metadata": {},
     "outputs": [
      {
       "output_type": "stream",
       "stream": "stdout",
       "text": [
        "VHI is downloaded...\n",
        "VHI is downloaded..."
       ]
      },
      {
       "output_type": "stream",
       "stream": "stdout",
       "text": [
        "\n",
        "VHI is downloaded..."
       ]
      },
      {
       "output_type": "stream",
       "stream": "stdout",
       "text": [
        "\n",
        "VHI is downloaded..."
       ]
      },
      {
       "output_type": "stream",
       "stream": "stdout",
       "text": [
        "\n",
        "VHI is downloaded..."
       ]
      },
      {
       "output_type": "stream",
       "stream": "stdout",
       "text": [
        "\n",
        "VHI is downloaded..."
       ]
      },
      {
       "output_type": "stream",
       "stream": "stdout",
       "text": [
        "\n",
        "VHI is downloaded...\n",
        "VHI is downloaded..."
       ]
      },
      {
       "output_type": "stream",
       "stream": "stdout",
       "text": [
        "\n",
        "VHI is downloaded..."
       ]
      },
      {
       "output_type": "stream",
       "stream": "stdout",
       "text": [
        "\n",
        "VHI is downloaded..."
       ]
      },
      {
       "output_type": "stream",
       "stream": "stdout",
       "text": [
        "\n",
        "VHI is downloaded..."
       ]
      },
      {
       "output_type": "stream",
       "stream": "stdout",
       "text": [
        "\n",
        "VHI is downloaded..."
       ]
      },
      {
       "output_type": "stream",
       "stream": "stdout",
       "text": [
        "\n",
        "VHI is downloaded..."
       ]
      },
      {
       "output_type": "stream",
       "stream": "stdout",
       "text": [
        "\n",
        "VHI is downloaded..."
       ]
      },
      {
       "output_type": "stream",
       "stream": "stdout",
       "text": [
        "\n",
        "VHI is downloaded..."
       ]
      },
      {
       "output_type": "stream",
       "stream": "stdout",
       "text": [
        "\n",
        "VHI is downloaded..."
       ]
      },
      {
       "output_type": "stream",
       "stream": "stdout",
       "text": [
        "\n",
        "VHI is downloaded..."
       ]
      },
      {
       "output_type": "stream",
       "stream": "stdout",
       "text": [
        "\n",
        "VHI is downloaded..."
       ]
      },
      {
       "output_type": "stream",
       "stream": "stdout",
       "text": [
        "\n",
        "VHI is downloaded..."
       ]
      },
      {
       "output_type": "stream",
       "stream": "stdout",
       "text": [
        "\n",
        "VHI is downloaded..."
       ]
      },
      {
       "output_type": "stream",
       "stream": "stdout",
       "text": [
        "\n",
        "VHI is downloaded..."
       ]
      },
      {
       "output_type": "stream",
       "stream": "stdout",
       "text": [
        "\n",
        "VHI is downloaded..."
       ]
      },
      {
       "output_type": "stream",
       "stream": "stdout",
       "text": [
        "\n",
        "VHI is downloaded..."
       ]
      },
      {
       "output_type": "stream",
       "stream": "stdout",
       "text": [
        "\n",
        "VHI is downloaded..."
       ]
      },
      {
       "output_type": "stream",
       "stream": "stdout",
       "text": [
        "\n",
        "VHI is downloaded..."
       ]
      },
      {
       "output_type": "stream",
       "stream": "stdout",
       "text": [
        "\n",
        "VHI is downloaded..."
       ]
      },
      {
       "output_type": "stream",
       "stream": "stdout",
       "text": [
        "\n",
        "VHI is downloaded..."
       ]
      },
      {
       "output_type": "stream",
       "stream": "stdout",
       "text": [
        "\n"
       ]
      }
     ],
     "prompt_number": 9
    },
    {
     "cell_type": "code",
     "collapsed": false,
     "input": [],
     "language": "python",
     "metadata": {},
     "outputs": []
    },
    {
     "cell_type": "code",
     "collapsed": false,
     "input": [
      "#\u0417\u043c\u0456\u043d\u0430 \u0456\u043c\u0435\u043d \u0441\u0442\u043e\u0432\u0431\u0446\u0456\u0432 \u0444\u0440\u0435\u0439\u043c\u0443, \u044f\u043a\u0456 \u043c\u0430\u044e\u0442\u044c \u0431\u0443\u0442\u0438 \u0437\u043c\u0456\u0441\u0442\u043e\u0432\u043d\u0438\u043c\u0438 \u0442\u0430 \u043b\u0435\u0433\u043a\u0438\u043c\u0438 \u0434\u043b\u044f \u0441\u043f\u0440\u0438\u0439\u043d\u044f\u0442\u0442\u044f;\n",
      "i = 1\n",
      "direct = './data/'\n",
      "file_begin = 'vhi_id_'\n",
      "dirs = os.listdir(direct)\n",
      "while i < 28:\n",
      "    for file in dirs:\n",
      "        read(direct, file_begin, i)\n",
      "        #change(direct, file_begin, i, '%Area_VHI_LESS_15', 'VHI_less_15')\n",
      "        #change(df, '%Area_VHI_LESS_35', 'VHI_less_35')\n",
      "        #if file.startswith('vhi_id_' + str(i)):\n",
      "         #   df = pd.read_csv('./data/' + file, index_col=False, header=1)\n",
      "          #  df = df.rename(columns={'%Area_VHI_LESS_15': 'VHI_less_15', '%Area_VHI_LESS_35': 'VHI_less_35'})\n",
      "        #print df[(df['year']==2000) & (df['week']==18)]\n",
      "    i = i + 1"
     ],
     "language": "python",
     "metadata": {},
     "outputs": [
      {
       "output_type": "stream",
       "stream": "stdout",
       "text": [
        "     year  week     SMN      SMT    VCI    TCI    VHI  %Area_VHI_LESS_15  \\\n",
        "971  2000    18  0.2376  290.225  56.85  33.85  45.35               0.28   \n",
        "\n",
        "     %Area_VHI_LESS_35  \n",
        "971              20.73  \n",
        "     year  week     SMN      SMT    VCI    TCI    VHI  %Area_VHI_LESS_15  \\\n",
        "971  2000    18  0.3694  289.723  88.52  16.95  52.73                  0   \n",
        "\n",
        "     %Area_VHI_LESS_35  \n",
        "971               2.59  \n",
        "     year  week     SMN      SMT    VCI    TCI    VHI  %Area_VHI_LESS_15  \\\n",
        "971  2000    18  0.2706  294.991  68.72  28.17  48.44                  0   \n",
        "\n",
        "     %Area_VHI_LESS_35  \n",
        "971                9.1  "
       ]
      },
      {
       "output_type": "stream",
       "stream": "stdout",
       "text": [
        "\n",
        "     year  week     SMN     SMT    VCI   TCI    VHI  %Area_VHI_LESS_15  \\\n",
        "971  2000    18  0.2584  294.48  67.01  30.9  48.95               0.05   \n",
        "\n",
        "     %Area_VHI_LESS_35  \n",
        "971              11.13  \n",
        "     year  week     SMN      SMT    VCI    TCI    VHI  %Area_VHI_LESS_15  \\\n",
        "971  2000    18  0.3192  291.445  84.48  18.95  51.71                  0   \n",
        "\n",
        "     %Area_VHI_LESS_35  \n",
        "971               6.29  "
       ]
      },
      {
       "output_type": "stream",
       "stream": "stdout",
       "text": [
        "\n",
        "     year  week     SMN      SMT    VCI    TCI    VHI  %Area_VHI_LESS_15  \\\n",
        "971  2000    18  0.2298  289.372  62.98  42.63  52.81               0.11   \n",
        "\n",
        "     %Area_VHI_LESS_35  \n",
        "971               7.89  \n",
        "     year  week     SMN      SMT    VCI    TCI    VHI  %Area_VHI_LESS_15  \\\n",
        "971  2000    18  0.3303  289.781  84.18  24.44  54.31                  0   \n",
        "\n",
        "     %Area_VHI_LESS_35  \n",
        "971               2.49  \n",
        "     year  week     SMN      SMT    VCI    TCI    VHI  %Area_VHI_LESS_15  \\\n",
        "971  2000    18  0.2298  289.372  62.98  42.63  52.81               0.11   \n",
        "\n",
        "     %Area_VHI_LESS_35  \n",
        "971               7.89  "
       ]
      },
      {
       "output_type": "stream",
       "stream": "stdout",
       "text": [
        "\n",
        "     year  week     SMN      SMT    VCI    TCI    VHI  %Area_VHI_LESS_15  \\\n",
        "971  2000    18  0.2298  289.372  62.98  42.63  52.81               0.11   \n",
        "\n",
        "     %Area_VHI_LESS_35  \n",
        "971               7.89  \n",
        "     year  week     SMN      SMT    VCI    TCI    VHI  %Area_VHI_LESS_15  \\\n",
        "971  2000    18  0.2376  292.701  65.07  29.79  47.43                0.1   \n",
        "\n",
        "     %Area_VHI_LESS_35  \n",
        "971              13.37  \n",
        "     year  week     SMN      SMT    VCI   TCI    VHI  %Area_VHI_LESS_15  \\\n",
        "971  2000    18  0.1825  289.995  46.55  43.3  44.92               0.29   \n",
        "\n",
        "     %Area_VHI_LESS_35  \n",
        "971              19.63  "
       ]
      },
      {
       "output_type": "stream",
       "stream": "stdout",
       "text": [
        "\n",
        "     year  week     SMN     SMT    VCI    TCI    VHI  %Area_VHI_LESS_15  \\\n",
        "971  2000    18  0.3057  290.82  83.54  30.81  57.17               0.04   \n",
        "\n",
        "     %Area_VHI_LESS_35  \n",
        "971               2.65  \n",
        "     year  week     SMN      SMT    VCI    TCI    VHI  %Area_VHI_LESS_15  \\\n",
        "971  2000    18  0.2882  288.398  72.73  36.16  54.44                  0   \n",
        "\n",
        "     %Area_VHI_LESS_35  \n",
        "971               4.46  \n",
        "     year  week     SMN      SMT    VCI    TCI    VHI  %Area_VHI_LESS_15  \\\n",
        "971  2000    18  0.2298  289.372  62.98  42.63  52.81               0.11   \n",
        "\n",
        "     %Area_VHI_LESS_35  \n",
        "971               7.89  "
       ]
      },
      {
       "output_type": "stream",
       "stream": "stdout",
       "text": [
        "\n",
        "     year  week     SMN      SMT    VCI    TCI    VHI  %Area_VHI_LESS_15  \\\n",
        "971  2000    18  0.2298  289.372  62.98  42.63  52.81               0.11   \n",
        "\n",
        "     %Area_VHI_LESS_35  \n",
        "971               7.89  \n",
        "     year  week     SMN      SMT    VCI   TCI    VHI  %Area_VHI_LESS_15  \\\n",
        "971  2000    18  0.3491  291.831  81.36  51.8  66.58                  0   \n",
        "\n",
        "     %Area_VHI_LESS_35  \n",
        "971               0.94  \n",
        "     year  week     SMN      SMT    VCI    TCI    VHI  %Area_VHI_LESS_15  \\\n",
        "971  2000    18  0.3419  289.864  83.59  23.32  53.45                  0   \n",
        "\n",
        "     %Area_VHI_LESS_35  \n",
        "971               2.66  "
       ]
      },
      {
       "output_type": "stream",
       "stream": "stdout",
       "text": [
        "\n",
        "     year  week     SMN      SMT    VCI    TCI   VHI  %Area_VHI_LESS_15  \\\n",
        "971  2000    18  0.3341  290.529  89.96  27.44  58.7                  0   \n",
        "\n",
        "     %Area_VHI_LESS_35  \n",
        "971               0.82  \n",
        "     year  week   SMN      SMT    VCI    TCI    VHI  %Area_VHI_LESS_15  \\\n",
        "971  2000    18  0.27  290.693  70.14  32.43  51.28                  0   \n",
        "\n",
        "     %Area_VHI_LESS_35  \n",
        "971              10.44  \n",
        "     year  week     SMN      SMT    VCI    TCI    VHI  %Area_VHI_LESS_15  \\\n",
        "971  2000    18  0.2671  293.294  67.21  40.98  54.09               0.05   \n",
        "\n",
        "     %Area_VHI_LESS_35  \n",
        "971               5.59  "
       ]
      },
      {
       "output_type": "stream",
       "stream": "stdout",
       "text": [
        "\n",
        "     year  week     SMN     SMT    VCI    TCI    VHI  %Area_VHI_LESS_15  \\\n",
        "971  2000    18  0.3184  288.98  81.97  30.95  56.46               0.03   \n",
        "\n",
        "     %Area_VHI_LESS_35  \n",
        "971               2.54  \n",
        "     year  week     SMN      SMT    VCI    TCI    VHI  %Area_VHI_LESS_15  \\\n",
        "971  2000    18  0.2671  293.294  67.21  40.98  54.09               0.05   \n",
        "\n",
        "     %Area_VHI_LESS_35  \n",
        "971               5.59  \n",
        "     year  week     SMN      SMT    VCI    TCI    VHI  %Area_VHI_LESS_15  \\\n",
        "971  2000    18  0.2671  293.294  67.21  40.98  54.09               0.05   \n",
        "\n",
        "     %Area_VHI_LESS_35  \n",
        "971               5.59  "
       ]
      },
      {
       "output_type": "stream",
       "stream": "stdout",
       "text": [
        "\n",
        "     year  week   SMN      SMT    VCI    TCI    VHI  %Area_VHI_LESS_15  \\\n",
        "971  2000    18  0.27  290.693  70.14  32.43  51.28                  0   \n",
        "\n",
        "     %Area_VHI_LESS_35  \n",
        "971              10.44  \n",
        "     year  week     SMN     SMT    VCI    TCI    VHI  %Area_VHI_LESS_15  \\\n",
        "971  2000    18  0.3184  288.98  81.97  30.95  56.46               0.03   \n",
        "\n",
        "     %Area_VHI_LESS_35  \n",
        "971               2.54  \n",
        "     year  week     SMN      SMT    VCI   TCI    VHI  %Area_VHI_LESS_15  \\\n",
        "971  2000    18  0.3491  291.831  81.36  51.8  66.58                  0   \n",
        "\n",
        "     %Area_VHI_LESS_35  \n",
        "971               0.94  "
       ]
      },
      {
       "output_type": "stream",
       "stream": "stdout",
       "text": [
        "\n",
        "     year  week     SMN      SMT    VCI    TCI    VHI  %Area_VHI_LESS_15  \\\n",
        "971  2000    18  0.2671  293.294  67.21  40.98  54.09               0.05   \n",
        "\n",
        "     %Area_VHI_LESS_35  \n",
        "971               5.59  \n",
        "     year  week     SMN     SMT    VCI    TCI    VHI  %Area_VHI_LESS_15  \\\n",
        "971  2000    18  0.3184  288.98  81.97  30.95  56.46               0.03   \n",
        "\n",
        "     %Area_VHI_LESS_35  \n",
        "971               2.54  \n",
        "     year  week     SMN      SMT    VCI    TCI    VHI  %Area_VHI_LESS_15  \\\n",
        "971  2000    18  0.2805  289.796  70.84  33.28  52.06               0.04   \n",
        "\n",
        "     %Area_VHI_LESS_35  \n",
        "971               8.43  "
       ]
      },
      {
       "output_type": "stream",
       "stream": "stdout",
       "text": [
        "\n",
        "     year  week     SMN      SMT    VCI    TCI    VHI  %Area_VHI_LESS_15  \\\n",
        "971  2000    18  0.2671  293.294  67.21  40.98  54.09               0.05   \n",
        "\n",
        "     %Area_VHI_LESS_35  \n",
        "971               5.59  \n",
        "     year  week     SMN      SMT    VCI    TCI    VHI  %Area_VHI_LESS_15  \\\n",
        "971  2000    18  0.3419  289.864  83.59  23.32  53.45                  0   \n",
        "\n",
        "     %Area_VHI_LESS_35  \n",
        "971               2.66  \n",
        "     year  week   SMN      SMT    VCI    TCI    VHI  %Area_VHI_LESS_15  \\\n",
        "971  2000    18  0.27  290.693  70.14  32.43  51.28                  0   \n",
        "\n",
        "     %Area_VHI_LESS_35  \n",
        "971              10.44  "
       ]
      },
      {
       "output_type": "stream",
       "stream": "stdout",
       "text": [
        "\n",
        "     year  week     SMN     SMT    VCI    TCI    VHI  %Area_VHI_LESS_15  \\\n",
        "971  2000    18  0.3533  290.31  87.63  19.39  53.51                  0   \n",
        "\n",
        "     %Area_VHI_LESS_35  \n",
        "971               2.23  \n",
        "     year  week     SMN      SMT    VCI    TCI    VHI  %Area_VHI_LESS_15  \\\n",
        "971  2000    18  0.3419  289.864  83.59  23.32  53.45                  0   \n",
        "\n",
        "     %Area_VHI_LESS_35  \n",
        "971               2.66  \n",
        "     year  week     SMN     SMT    VCI    TCI    VHI  %Area_VHI_LESS_15  \\\n",
        "971  2000    18  0.3184  288.98  81.97  30.95  56.46               0.03   \n",
        "\n",
        "     %Area_VHI_LESS_35  \n",
        "971               2.54  "
       ]
      },
      {
       "output_type": "stream",
       "stream": "stdout",
       "text": [
        "\n",
        "     year  week   SMN      SMT    VCI    TCI    VHI  %Area_VHI_LESS_15  \\\n",
        "971  2000    18  0.27  290.693  70.14  32.43  51.28                  0   \n",
        "\n",
        "     %Area_VHI_LESS_35  \n",
        "971              10.44  \n",
        "     year  week     SMN     SMT    VCI    TCI    VHI  %Area_VHI_LESS_15  \\\n",
        "971  2000    18  0.3184  288.98  81.97  30.95  56.46               0.03   \n",
        "\n",
        "     %Area_VHI_LESS_35  \n",
        "971               2.54  \n",
        "     year  week     SMN      SMT    VCI    TCI    VHI  %Area_VHI_LESS_15  \\\n",
        "971  2000    18  0.3419  289.864  83.59  23.32  53.45                  0   \n",
        "\n",
        "     %Area_VHI_LESS_35  \n",
        "971               2.66  "
       ]
      },
      {
       "output_type": "stream",
       "stream": "stdout",
       "text": [
        "\n",
        "     year  week     SMN      SMT    VCI   TCI    VHI  %Area_VHI_LESS_15  \\\n",
        "971  2000    18  0.3491  291.831  81.36  51.8  66.58                  0   \n",
        "\n",
        "     %Area_VHI_LESS_35  \n",
        "971               0.94  \n",
        "     year  week   SMN      SMT    VCI    TCI    VHI  %Area_VHI_LESS_15  \\\n",
        "971  2000    18  0.27  290.693  70.14  32.43  51.28                  0   \n",
        "\n",
        "     %Area_VHI_LESS_35  \n",
        "971              10.44  \n",
        "     year  week     SMN      SMT    VCI   TCI    VHI  %Area_VHI_LESS_15  \\\n",
        "971  2000    18  0.3491  291.831  81.36  51.8  66.58                  0   \n",
        "\n",
        "     %Area_VHI_LESS_35  \n",
        "971               0.94  "
       ]
      },
      {
       "output_type": "stream",
       "stream": "stdout",
       "text": [
        "\n",
        "     year  week     SMN      SMT    VCI   TCI    VHI  %Area_VHI_LESS_15  \\\n",
        "971  2000    18  0.3491  291.831  81.36  51.8  66.58                  0   \n",
        "\n",
        "     %Area_VHI_LESS_35  \n",
        "971               0.94  \n",
        "     year  week     SMN      SMT    VCI    TCI    VHI  %Area_VHI_LESS_15  \\\n",
        "971  2000    18  0.3375  289.258  84.93  35.04  59.99                  0   \n",
        "\n",
        "     %Area_VHI_LESS_35  \n",
        "971                2.5  \n",
        "     year  week     SMN      SMT    VCI    TCI    VHI  %Area_VHI_LESS_15  \\\n",
        "971  2000    18  0.3419  289.864  83.59  23.32  53.45                  0   \n",
        "\n",
        "     %Area_VHI_LESS_35  \n",
        "971               2.66  "
       ]
      },
      {
       "output_type": "stream",
       "stream": "stdout",
       "text": [
        "\n",
        "     year  week    SMN      SMT    VCI    TCI    VHI  %Area_VHI_LESS_15  \\\n",
        "971  2000    18  0.217  292.545  60.71  32.98  46.84               0.04   \n",
        "\n",
        "     %Area_VHI_LESS_35  \n",
        "971              14.46  \n",
        "     year  week    SMN      SMT    VCI    TCI    VHI  %Area_VHI_LESS_15  \\\n",
        "971  2000    18  0.217  292.545  60.71  32.98  46.84               0.04   \n",
        "\n",
        "     %Area_VHI_LESS_35  \n",
        "971              14.46  \n",
        "     year  week    SMN      SMT    VCI    TCI    VHI  %Area_VHI_LESS_15  \\\n",
        "971  2000    18  0.217  292.545  60.71  32.98  46.84               0.04   \n",
        "\n",
        "     %Area_VHI_LESS_35  \n",
        "971              14.46  "
       ]
      },
      {
       "output_type": "stream",
       "stream": "stdout",
       "text": [
        "\n",
        "     year  week    SMN      SMT    VCI    TCI    VHI  %Area_VHI_LESS_15  \\\n",
        "971  2000    18  0.217  292.545  60.71  32.98  46.84               0.04   \n",
        "\n",
        "     %Area_VHI_LESS_35  \n",
        "971              14.46  \n",
        "     year  week    SMN      SMT    VCI    TCI    VHI  %Area_VHI_LESS_15  \\\n",
        "971  2000    18  0.217  292.545  60.71  32.98  46.84               0.04   \n",
        "\n",
        "     %Area_VHI_LESS_35  \n",
        "971              14.46  \n",
        "     year  week     SMN      SMT   VCI    TCI    VHI  %Area_VHI_LESS_15  \\\n",
        "971  2000    18  0.1827  290.503  47.4  42.72  45.06               0.18   \n",
        "\n",
        "     %Area_VHI_LESS_35  \n",
        "971              17.94  "
       ]
      },
      {
       "output_type": "stream",
       "stream": "stdout",
       "text": [
        "\n",
        "     year  week     SMN      SMT   VCI    TCI    VHI  %Area_VHI_LESS_15  \\\n",
        "971  2000    18  0.1827  290.503  47.4  42.72  45.06               0.18   \n",
        "\n",
        "     %Area_VHI_LESS_35  \n",
        "971              17.94  \n",
        "     year  week     SMN      SMT   VCI    TCI    VHI  %Area_VHI_LESS_15  \\\n",
        "971  2000    18  0.1827  290.503  47.4  42.72  45.06               0.18   \n",
        "\n",
        "     %Area_VHI_LESS_35  \n",
        "971              17.94  \n",
        "     year  week     SMN      SMT   VCI    TCI    VHI  %Area_VHI_LESS_15  \\\n",
        "971  2000    18  0.1827  290.503  47.4  42.72  45.06               0.18   \n",
        "\n",
        "     %Area_VHI_LESS_35  \n",
        "971              17.94  "
       ]
      },
      {
       "output_type": "stream",
       "stream": "stdout",
       "text": [
        "\n",
        "     year  week     SMN      SMT   VCI    TCI    VHI  %Area_VHI_LESS_15  \\\n",
        "971  2000    18  0.1827  290.503  47.4  42.72  45.06               0.18   \n",
        "\n",
        "     %Area_VHI_LESS_35  \n",
        "971              17.94  \n",
        "     year  week     SMN      SMT    VCI    TCI    VHI  %Area_VHI_LESS_15  \\\n",
        "971  2000    18  0.3294  288.708  83.75  33.28  58.52                  0   \n",
        "\n",
        "     %Area_VHI_LESS_35  \n",
        "971               1.27  \n",
        "     year  week     SMN      SMT    VCI    TCI    VHI  %Area_VHI_LESS_15  \\\n",
        "971  2000    18  0.3485  287.637  78.42  22.73  50.58               0.19   \n",
        "\n",
        "     %Area_VHI_LESS_35  \n",
        "971              10.99  "
       ]
      },
      {
       "output_type": "stream",
       "stream": "stdout",
       "text": [
        "\n",
        "     year  week     SMN      SMT    VCI    TCI    VHI  %Area_VHI_LESS_15  \\\n",
        "971  2000    18  0.2164  292.739  53.43  43.08  48.25               0.05   \n",
        "\n",
        "     %Area_VHI_LESS_35  \n",
        "971              11.95  \n",
        "     year  week     SMN      SMT    VCI    TCI    VHI  %Area_VHI_LESS_15  \\\n",
        "971  2000    18  0.2184  289.033  67.66  31.84  49.74                  0   \n",
        "\n",
        "     %Area_VHI_LESS_35  \n",
        "971               11.9  \n",
        "     year  week     SMN      SMT    VCI    TCI    VHI  %Area_VHI_LESS_15  \\\n",
        "971  2000    18  0.2376  292.701  65.07  29.79  47.43                0.1   \n",
        "\n",
        "     %Area_VHI_LESS_35  \n",
        "971              13.37  "
       ]
      },
      {
       "output_type": "stream",
       "stream": "stdout",
       "text": [
        "\n",
        "     year  week     SMN      SMT    VCI   TCI    VHI  %Area_VHI_LESS_15  \\\n",
        "971  2000    18  0.1825  289.995  46.55  43.3  44.92               0.29   \n",
        "\n",
        "     %Area_VHI_LESS_35  \n",
        "971              19.63  \n",
        "     year  week     SMN      SMT    VCI    TCI    VHI  %Area_VHI_LESS_15  \\\n",
        "971  2000    18  0.3694  289.723  88.52  16.95  52.73                  0   \n",
        "\n",
        "     %Area_VHI_LESS_35  \n",
        "971               2.59  \n",
        "     year  week     SMN     SMT    VCI   TCI    VHI  %Area_VHI_LESS_15  \\\n",
        "971  2000    18  0.2584  294.48  67.01  30.9  48.95               0.05   \n",
        "\n",
        "     %Area_VHI_LESS_35  \n",
        "971              11.13  "
       ]
      },
      {
       "output_type": "stream",
       "stream": "stdout",
       "text": [
        "\n",
        "     year  week     SMN      SMT    VCI    TCI    VHI  %Area_VHI_LESS_15  \\\n",
        "971  2000    18  0.2706  294.991  68.72  28.17  48.44                  0   \n",
        "\n",
        "     %Area_VHI_LESS_35  \n",
        "971                9.1  \n",
        "     year  week     SMN      SMT    VCI    TCI    VHI  %Area_VHI_LESS_15  \\\n",
        "971  2000    18  0.2376  290.225  56.85  33.85  45.35               0.28   \n",
        "\n",
        "     %Area_VHI_LESS_35  \n",
        "971              20.73  \n",
        "     year  week     SMN      SMT    VCI    TCI    VHI  %Area_VHI_LESS_15  \\\n",
        "971  2000    18  0.3303  289.781  84.18  24.44  54.31                  0   \n",
        "\n",
        "     %Area_VHI_LESS_35  \n",
        "971               2.49  "
       ]
      },
      {
       "output_type": "stream",
       "stream": "stdout",
       "text": [
        "\n",
        "     year  week     SMN      SMT    VCI    TCI    VHI  %Area_VHI_LESS_15  \\\n",
        "971  2000    18  0.2882  288.398  72.73  36.16  54.44                  0   \n",
        "\n",
        "     %Area_VHI_LESS_35  \n",
        "971               4.46  \n",
        "     year  week     SMN      SMT    VCI    TCI    VHI  %Area_VHI_LESS_15  \\\n",
        "971  2000    18  0.3192  291.445  84.48  18.95  51.71                  0   \n",
        "\n",
        "     %Area_VHI_LESS_35  \n",
        "971               6.29  \n",
        "     year  week     SMN      SMT    VCI    TCI    VHI  %Area_VHI_LESS_15  \\\n",
        "971  2000    18  0.2298  289.372  62.98  42.63  52.81               0.11   \n",
        "\n",
        "     %Area_VHI_LESS_35  \n",
        "971               7.89  "
       ]
      },
      {
       "output_type": "stream",
       "stream": "stdout",
       "text": [
        "\n",
        "     year  week     SMN      SMT    VCI    TCI    VHI  %Area_VHI_LESS_15  \\\n",
        "971  2000    18  0.2298  289.372  62.98  42.63  52.81               0.11   \n",
        "\n",
        "     %Area_VHI_LESS_35  \n",
        "971               7.89  \n",
        "     year  week     SMN      SMT    VCI    TCI    VHI  %Area_VHI_LESS_15  \\\n",
        "971  2000    18  0.2298  289.372  62.98  42.63  52.81               0.11   \n",
        "\n",
        "     %Area_VHI_LESS_35  \n",
        "971               7.89  \n",
        "     year  week     SMN      SMT    VCI    TCI    VHI  %Area_VHI_LESS_15  \\\n",
        "971  2000    18  0.2298  289.372  62.98  42.63  52.81               0.11   \n",
        "\n",
        "     %Area_VHI_LESS_35  \n",
        "971               7.89  "
       ]
      },
      {
       "output_type": "stream",
       "stream": "stdout",
       "text": [
        "\n",
        "     year  week     SMN      SMT    VCI    TCI    VHI  %Area_VHI_LESS_15  \\\n",
        "971  2000    18  0.2298  289.372  62.98  42.63  52.81               0.11   \n",
        "\n",
        "     %Area_VHI_LESS_35  \n",
        "971               7.89  \n",
        "     year  week     SMN      SMT    VCI    TCI    VHI  %Area_VHI_LESS_15  \\\n",
        "971  2000    18  0.2671  293.294  67.21  40.98  54.09               0.05   \n",
        "\n",
        "     %Area_VHI_LESS_35  \n",
        "971               5.59  \n",
        "     year  week     SMN      SMT    VCI    TCI    VHI  %Area_VHI_LESS_15  \\\n",
        "971  2000    18  0.2671  293.294  67.21  40.98  54.09               0.05   \n",
        "\n",
        "     %Area_VHI_LESS_35  \n",
        "971               5.59  "
       ]
      },
      {
       "output_type": "stream",
       "stream": "stdout",
       "text": [
        "\n",
        "     year  week     SMN      SMT    VCI    TCI    VHI  %Area_VHI_LESS_15  \\\n",
        "971  2000    18  0.2671  293.294  67.21  40.98  54.09               0.05   \n",
        "\n",
        "     %Area_VHI_LESS_35  \n",
        "971               5.59  \n",
        "     year  week     SMN      SMT    VCI    TCI    VHI  %Area_VHI_LESS_15  \\\n",
        "971  2000    18  0.2671  293.294  67.21  40.98  54.09               0.05   \n",
        "\n",
        "     %Area_VHI_LESS_35  \n",
        "971               5.59  \n",
        "     year  week     SMN      SMT    VCI    TCI    VHI  %Area_VHI_LESS_15  \\\n",
        "971  2000    18  0.2671  293.294  67.21  40.98  54.09               0.05   \n",
        "\n",
        "     %Area_VHI_LESS_35  \n",
        "971               5.59  "
       ]
      },
      {
       "output_type": "stream",
       "stream": "stdout",
       "text": [
        "\n",
        "     year  week     SMN      SMT    VCI    TCI   VHI  %Area_VHI_LESS_15  \\\n",
        "971  2000    18  0.3341  290.529  89.96  27.44  58.7                  0   \n",
        "\n",
        "     %Area_VHI_LESS_35  \n",
        "971               0.82  \n",
        "     year  week   SMN      SMT    VCI    TCI    VHI  %Area_VHI_LESS_15  \\\n",
        "971  2000    18  0.27  290.693  70.14  32.43  51.28                  0   \n",
        "\n",
        "     %Area_VHI_LESS_35  \n",
        "971              10.44  \n",
        "     year  week   SMN      SMT    VCI    TCI    VHI  %Area_VHI_LESS_15  \\\n",
        "971  2000    18  0.27  290.693  70.14  32.43  51.28                  0   \n",
        "\n",
        "     %Area_VHI_LESS_35  \n",
        "971              10.44  "
       ]
      },
      {
       "output_type": "stream",
       "stream": "stdout",
       "text": [
        "\n",
        "     year  week   SMN      SMT    VCI    TCI    VHI  %Area_VHI_LESS_15  \\\n",
        "971  2000    18  0.27  290.693  70.14  32.43  51.28                  0   \n",
        "\n",
        "     %Area_VHI_LESS_35  \n",
        "971              10.44  \n",
        "     year  week   SMN      SMT    VCI    TCI    VHI  %Area_VHI_LESS_15  \\\n",
        "971  2000    18  0.27  290.693  70.14  32.43  51.28                  0   \n",
        "\n",
        "     %Area_VHI_LESS_35  \n",
        "971              10.44  \n",
        "     year  week   SMN      SMT    VCI    TCI    VHI  %Area_VHI_LESS_15  \\\n",
        "971  2000    18  0.27  290.693  70.14  32.43  51.28                  0   \n",
        "\n",
        "     %Area_VHI_LESS_35  \n",
        "971              10.44  "
       ]
      },
      {
       "output_type": "stream",
       "stream": "stdout",
       "text": [
        "\n",
        "     year  week     SMN      SMT    VCI    TCI    VHI  %Area_VHI_LESS_15  \\\n",
        "971  2000    18  0.3419  289.864  83.59  23.32  53.45                  0   \n",
        "\n",
        "     %Area_VHI_LESS_35  \n",
        "971               2.66  \n",
        "     year  week     SMN      SMT    VCI    TCI    VHI  %Area_VHI_LESS_15  \\\n",
        "971  2000    18  0.3419  289.864  83.59  23.32  53.45                  0   \n",
        "\n",
        "     %Area_VHI_LESS_35  \n",
        "971               2.66  \n",
        "     year  week     SMN      SMT    VCI    TCI    VHI  %Area_VHI_LESS_15  \\\n",
        "971  2000    18  0.3419  289.864  83.59  23.32  53.45                  0   \n",
        "\n",
        "     %Area_VHI_LESS_35  \n",
        "971               2.66  "
       ]
      },
      {
       "output_type": "stream",
       "stream": "stdout",
       "text": [
        "\n",
        "     year  week     SMN      SMT    VCI    TCI    VHI  %Area_VHI_LESS_15  \\\n",
        "971  2000    18  0.3419  289.864  83.59  23.32  53.45                  0   \n",
        "\n",
        "     %Area_VHI_LESS_35  \n",
        "971               2.66  \n",
        "     year  week     SMN      SMT    VCI    TCI    VHI  %Area_VHI_LESS_15  \\\n",
        "971  2000    18  0.3419  289.864  83.59  23.32  53.45                  0   \n",
        "\n",
        "     %Area_VHI_LESS_35  \n",
        "971               2.66  \n",
        "     year  week     SMN     SMT    VCI    TCI    VHI  %Area_VHI_LESS_15  \\\n",
        "971  2000    18  0.3184  288.98  81.97  30.95  56.46               0.03   \n",
        "\n",
        "     %Area_VHI_LESS_35  \n",
        "971               2.54  "
       ]
      },
      {
       "output_type": "stream",
       "stream": "stdout",
       "text": [
        "\n",
        "     year  week     SMN     SMT    VCI    TCI    VHI  %Area_VHI_LESS_15  \\\n",
        "971  2000    18  0.3184  288.98  81.97  30.95  56.46               0.03   \n",
        "\n",
        "     %Area_VHI_LESS_35  \n",
        "971               2.54  \n",
        "     year  week     SMN     SMT    VCI    TCI    VHI  %Area_VHI_LESS_15  \\\n",
        "971  2000    18  0.3184  288.98  81.97  30.95  56.46               0.03   \n",
        "\n",
        "     %Area_VHI_LESS_35  \n",
        "971               2.54  \n",
        "     year  week     SMN     SMT    VCI    TCI    VHI  %Area_VHI_LESS_15  \\\n",
        "971  2000    18  0.3184  288.98  81.97  30.95  56.46               0.03   \n",
        "\n",
        "     %Area_VHI_LESS_35  \n",
        "971               2.54  "
       ]
      },
      {
       "output_type": "stream",
       "stream": "stdout",
       "text": [
        "\n",
        "     year  week     SMN     SMT    VCI    TCI    VHI  %Area_VHI_LESS_15  \\\n",
        "971  2000    18  0.3184  288.98  81.97  30.95  56.46               0.03   \n",
        "\n",
        "     %Area_VHI_LESS_35  \n",
        "971               2.54  \n",
        "     year  week     SMN      SMT    VCI   TCI    VHI  %Area_VHI_LESS_15  \\\n",
        "971  2000    18  0.3491  291.831  81.36  51.8  66.58                  0   \n",
        "\n",
        "     %Area_VHI_LESS_35  \n",
        "971               0.94  \n",
        "     year  week     SMN      SMT    VCI   TCI    VHI  %Area_VHI_LESS_15  \\\n",
        "971  2000    18  0.3491  291.831  81.36  51.8  66.58                  0   \n",
        "\n",
        "     %Area_VHI_LESS_35  \n",
        "971               0.94  "
       ]
      },
      {
       "output_type": "stream",
       "stream": "stdout",
       "text": [
        "\n",
        "     year  week     SMN      SMT    VCI   TCI    VHI  %Area_VHI_LESS_15  \\\n",
        "971  2000    18  0.3491  291.831  81.36  51.8  66.58                  0   \n",
        "\n",
        "     %Area_VHI_LESS_35  \n",
        "971               0.94  \n",
        "     year  week     SMN      SMT    VCI   TCI    VHI  %Area_VHI_LESS_15  \\\n",
        "971  2000    18  0.3491  291.831  81.36  51.8  66.58                  0   \n",
        "\n",
        "     %Area_VHI_LESS_35  \n",
        "971               0.94  \n",
        "     year  week     SMN      SMT    VCI   TCI    VHI  %Area_VHI_LESS_15  \\\n",
        "971  2000    18  0.3491  291.831  81.36  51.8  66.58                  0   \n",
        "\n",
        "     %Area_VHI_LESS_35  \n",
        "971               0.94  "
       ]
      },
      {
       "output_type": "stream",
       "stream": "stdout",
       "text": [
        "\n",
        "     year  week     SMN      SMT    VCI    TCI    VHI  %Area_VHI_LESS_15  \\\n",
        "971  2000    18  0.2805  289.796  70.84  33.28  52.06               0.04   \n",
        "\n",
        "     %Area_VHI_LESS_35  \n",
        "971               8.43  \n",
        "     year  week     SMN      SMT    VCI    TCI    VHI  %Area_VHI_LESS_15  \\\n",
        "971  2000    18  0.3375  289.258  84.93  35.04  59.99                  0   \n",
        "\n",
        "     %Area_VHI_LESS_35  \n",
        "971                2.5  \n"
       ]
      }
     ],
     "prompt_number": 66
    },
    {
     "cell_type": "code",
     "collapsed": false,
     "input": [
      "#\u0420\u044f\u0434 VHI \u0434\u043b\u044f \u043e\u0431\u043b\u0430\u0441\u0442\u0456 \u0437\u0430 \u0440\u0456\u043a, \u043f\u043e\u0448\u0443\u043a \u0435\u043a\u0441\u0442\u0440\u0435\u043c\u0443\u043c\u0456\u0432 (min \u0442\u0430 max);\n",
      "dirs = os.listdir(\"./data/\")\n",
      "y = 1981\n",
      "if file.startswith('vhi_id_10'):\n",
      "    df = pd.read_csv('./data/' + file, index_col=False, header=1)\n",
      "print y, \"min: \", df[(df['year']==y)].VHI.min(0)\n",
      "print y, \"max: \", df[(df['year']==y)].VHI.max(0)"
     ],
     "language": "python",
     "metadata": {},
     "outputs": [
      {
       "output_type": "stream",
       "stream": "stdout",
       "text": [
        "1981 min:  32.28\n",
        "1981 max:  55.93\n"
       ]
      }
     ],
     "prompt_number": 16
    },
    {
     "cell_type": "code",
     "collapsed": false,
     "input": [
      "#\u0420\u044f\u0434 VHI \u0437\u0430 \u0432\u0441\u0456 \u0440\u043e\u043a\u0438 \u0434\u043b\u044f \u043e\u0431\u043b\u0430\u0441\u0442\u0456, \u0432\u0438\u044f\u0432\u0438\u0442\u0438  \u0440\u043e\u043a\u0438 \u0437 \u0435\u043a\u0441\u0442\u0440\u0435\u043c\u0430\u043b\u044c\u043d\u0438\u043c\u0438 \u043f\u043e\u0441\u0443\u0445\u0430\u043c\u0438, \u044f\u043a\u0456 \u0442\u043e\u0440\u043a\u043d\u0443\u043b\u0438\u0441\u044f \u0431\u0456\u043b\u044c\u0448\u0435 \u0432\u043a\u0430\u0437\u0430\u043d\u043e\u0433\u043e \u0432\u0456\u0434\u0441\u043e\u0442\u043a\u0430 \u043e\u0431\u043b\u0430\u0441\u0442\u0456;\n",
      "dirs = os.listdir(\"./data/\")\n",
      "y = 1981\n",
      "while y < 2016:\n",
      "    if file.startswith('vhi_id_10'):\n",
      "        df = pd.read_csv('./data/' + file, index_col=False, header=1)\n",
      "    #print y, \"min: \", df[(df['year']==y)].VHI_less_15.min(0)\n",
      "    #print y, \"max: \", df[(df['year']==y)].VHI_less_15.max(0)\n",
      "    y += 1"
     ],
     "language": "python",
     "metadata": {},
     "outputs": [],
     "prompt_number": 22
    },
    {
     "cell_type": "code",
     "collapsed": false,
     "input": [
      "#\u0410\u043d\u0430\u043b\u043e\u0433\u0456\u0447\u043d\u043e \u0434\u043b\u044f \u043f\u043e\u043c\u0456\u0440\u043d\u0438\u0445 \u043f\u043e\u0441\u0443\u0445;\n",
      "dirs = os.listdir(\"./data/\")\n",
      "y = 1981\n",
      "while y < 2016:\n",
      "    if file.startswith('vhi_id_10'):\n",
      "        df = pd.read_csv('./data/' + file, index_col=False, header=1)\n",
      "    #print y, \"min: \", df[(df['year']==y)].VHI_less_35.min(0)\n",
      "    #print y, \"max: \", df[(df['year']==y)].VHI_less_35.max(0)\n",
      "    y += 1"
     ],
     "language": "python",
     "metadata": {},
     "outputs": [],
     "prompt_number": 24
    },
    {
     "cell_type": "code",
     "collapsed": false,
     "input": [],
     "language": "python",
     "metadata": {},
     "outputs": []
    }
   ],
   "metadata": {}
  }
 ]
}